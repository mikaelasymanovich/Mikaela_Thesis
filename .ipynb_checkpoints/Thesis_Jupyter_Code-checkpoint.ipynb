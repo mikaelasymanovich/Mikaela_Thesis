{
 "cells": [
  {
   "cell_type": "code",
   "execution_count": 1,
   "metadata": {},
   "outputs": [],
   "source": [
    "import networkx as nx\n",
    "import matplotlib.pyplot as plt\n",
    "from decimal import Decimal\n",
    "import numpy as np\n",
    "import os\n",
    "import random\n",
    "import pylab as P\n",
    "import pandas as pd\n",
    "import math\n",
    "import sys\n",
    "import matplotlib.patches as mpatches\n",
    "from matplotlib_venn import venn3"
   ]
  },
  {
   "cell_type": "code",
   "execution_count": 2,
   "metadata": {},
   "outputs": [],
   "source": [
    "fh = open(os.path.join('./PPI_Graphs', 'reactomefi2015.tsv'), 'rb')\n",
    "G = nx.read_edgelist(fh, delimiter='\\t')\n",
    "fh.close()"
   ]
  },
  {
   "cell_type": "code",
   "execution_count": 9,
   "metadata": {},
   "outputs": [],
   "source": [
    "file = 'gwas_Alzheimer.tsv'\n",
    "genes, g_p = readGwasAssociationFile(file)\n",
    "H = G.subgraph(genes)"
   ]
  },
  {
   "cell_type": "markdown",
   "metadata": {},
   "source": [
    "# Initialize Variables "
   ]
  },
  {
   "cell_type": "code",
   "execution_count": 8,
   "metadata": {},
   "outputs": [],
   "source": [
    "num_ccs = []\n",
    "largest_ccs = []\n",
    "num_ccs_excluding_ones = []\n",
    "seconds = []\n",
    "firsts = []\n",
    "paths = []\n",
    "c1_diam = []\n",
    "c2_diam= []\n",
    "cc1 = []\n",
    "cc2 = []\n",
    "sm = []\n",
    "sm_1 = []\n",
    "mid = []\n",
    "lg_1 = []\n",
    "lg_2 = []\n",
    "lg_3 = []\n",
    "\n",
    "num_gt_cc = 0\n",
    "num_gt_large_cc = 0\n",
    "num_gt_cc_excluding_ones = 0\n",
    "second_largest_num = 0\n",
    "pr_both = 0\n",
    "c1d = 0\n",
    "c2d = 0\n",
    "c1dd = 0\n",
    "c1ddd = 0"
   ]
  },
  {
   "cell_type": "markdown",
   "metadata": {},
   "source": [
    "# Changing Variables Based on Disease"
   ]
  },
  {
   "cell_type": "code",
   "execution_count": 10,
   "metadata": {},
   "outputs": [],
   "source": [
    "N = 10000\n",
    "k = 190\n",
    "disease_cc_number = 122\n",
    "disease_largest_cc = 35\n",
    "second_largest = 14\n",
    "both_actual = 49\n",
    "disease_cc_number_excluding_ones = 14"
   ]
  },
  {
   "cell_type": "markdown",
   "metadata": {},
   "source": [
    "Determine Probabilites for Number of Connected Components, Largest CC, Second Largest CC"
   ]
  },
  {
   "cell_type": "code",
   "execution_count": null,
   "metadata": {},
   "outputs": [],
   "source": [
    "nodes_all = G.nodes()\n",
    "\n",
    "for i in range(0,N):\n",
    "    genes = random.sample(nodes_all, k)\n",
    "\n",
    "    H = G.subgraph(genes)\n",
    "    nodes = nx.number_of_nodes(H)\n",
    "\n",
    "    if (nodes != 0):\n",
    "        cc_number = nx.number_connected_components(H)\n",
    "        num_ccs.append(cc_number) #add number of CC's to list\n",
    "\n",
    "        Gcc = sorted(nx.connected_component_subgraphs(H), key = len, reverse=True)\n",
    "        G0 = nx.number_of_nodes(Gcc[0])\n",
    "        G1 = nx.number_of_nodes(Gcc[1])\n",
    "        largest_ccs.append(G0) #add largest CC to list\n",
    "        both = G0 + G1\n",
    "\n",
    "        cc_number_excuding_ones = 0\n",
    "        for component in Gcc:\n",
    "            if (nx.number_of_nodes(component) != 1):\n",
    "                cc_number_excuding_ones += 1\n",
    "        num_ccs_excluding_ones.append(cc_number_excuding_ones)\n",
    "\n",
    "        if (cc_number > disease_cc_number):\n",
    "            num_gt_cc += 1\n",
    "        if (G0 > disease_largest_cc):\n",
    "            num_gt_large_cc += 1\n",
    "        if (cc_number_excuding_ones > disease_cc_number_excluding_ones):\n",
    "            num_gt_cc_excluding_ones += 1\n",
    "        if (G1 >= second_largest):\n",
    "            second_largest_num += 1\n",
    "            seconds.append(G1)\n",
    "        if (both >= both_actual):\n",
    "            pr_both += 1\n",
    "\n",
    "print(\"Number of Connected Components\")\n",
    "print(\"P(X>x) = \", float(num_gt_cc)/float(N), \"\\n\")\n",
    "\n",
    "print(\"Largest Connected Component\")\n",
    "print(\"P(X>x) = \", float(num_gt_large_cc)/float(N), \"\\n\")\n",
    "\n",
    "print(\"Number of CC's Excluding Single Nodes\")\n",
    "print(\"P(X>x) = \", float(num_gt_cc_excluding_ones)/float(N), \"\\n\")\n",
    "\n",
    "print(\"Probability that the second largest component\")\n",
    "print(\"P(X>x) = \", float(second_largest_num)/float(N))\n",
    "\n",
    "print(\"Probability that the first+second are larger\")\n",
    "print(\"P(X>x) = \", float(pr_both)/float(N))"
   ]
  },
  {
   "cell_type": "markdown",
   "metadata": {},
   "source": [
    "Plots Distributions of Numbers of CCs, Largest CC for a given K"
   ]
  },
  {
   "cell_type": "code",
   "execution_count": 34,
   "metadata": {},
   "outputs": [
    {
     "data": {
      "image/png": "[encoded data removed]",
      "text/plain": [
       "<matplotlib.figure.Figure at 0x15124f7f10>"
      ]
     },
     "metadata": {},
     "output_type": "display_data"
    },
    {
     "data": {
      "image/png": "[encoded data removed]",
      "text/plain": [
       "<matplotlib.figure.Figure at 0x1511c9f690>"
      ]
     },
     "metadata": {},
     "output_type": "display_data"
    },
    {
     "data": {
      "image/png": "[encoded data removed]",
      "text/plain": [
       "<matplotlib.figure.Figure at 0x105ab4d90>"
      ]
     },
     "metadata": {},
     "output_type": "display_data"
    }
   ],
   "source": [
    "plt.hist(num_ccs)\n",
    "plt.xlabel('Number of Connected Components')\n",
    "plt.show()\n",
    "plt.hist(largest_ccs)\n",
    "plt.xlabel('Largest Connected Component')\n",
    "plt.show()\n",
    "plt.hist(num_ccs_excluding_ones)\n",
    "plt.xlabel('Number of Connected Components Excluding Single Nodes')\n",
    "plt.show()"
   ]
  },
  {
   "cell_type": "markdown",
   "metadata": {},
   "source": [
    "Returns a List of Genes of Significance for a Given File"
   ]
  },
  {
   "cell_type": "code",
   "execution_count": 5,
   "metadata": {},
   "outputs": [],
   "source": [
    "def readGwasAssociationFile(disease):\n",
    "\tgenes = []\n",
    "\tg_p = {}\n",
    "\tinsignificants = []\n",
    "\ttotal_genes = []\n",
    "\t#f = open(os.path.join('./Diseases', 'ulcerative_colitis.tsv'))\n",
    "\tf = open(os.path.join('./Diseases', disease))\n",
    "\n",
    "\tfirst_line = 0\n",
    "\tnum_genes = 0;\n",
    "\tnum_assoc = 0;\n",
    "\tfor line in f:\n",
    "\t\tif (first_line == 1):\n",
    "\t\t\tnum_assoc += 1;\n",
    "\t\t\tx = line.split('\\t')\n",
    "\t\t\tp_value = Decimal(x[27])\n",
    "\t\t\tassociated_gene = x[14]\n",
    "\n",
    "\t\t\tif (disease == 'gwas_schizophrenia.tsv' or disease == 'gwas_Alzheimer.tsv'):\n",
    "\t\t\t\tif (p_value < 0.0000001):\n",
    "\t\t\t\t\tformatted_gene = associated_gene.replace('\"', '').replace(',', '').replace(';', '').replace('-', '')\n",
    "\t\t\t\t\tmapped_genes = formatted_gene.split(' ')\n",
    "\t\t\t\t\tfor gene in mapped_genes:\n",
    "\t\t\t\t\t\tif gene: \n",
    "\t\t\t\t\t\t\tgenes.append(gene)\n",
    "\t\t\t\t\t\t\ttotal_genes.append(gene)\n",
    "\t\t\t\t\t\t\tnum_genes += 1\n",
    "\t\t\t\t\t\t\tg_p[gene] = p_value\n",
    "\t\t\telif (disease == 'gwas_Dementia.tsv'):\n",
    "\t\t\t\tif (p_value < 0.00000005):\n",
    "\t\t\t\t\tformatted_gene = associated_gene.replace('\"', '').replace(',', '').replace(';', '').replace('-', '')\n",
    "\t\t\t\t\tmapped_genes = formatted_gene.split(' ')\n",
    "\t\t\t\t\tfor gene in mapped_genes:\n",
    "\t\t\t\t\t\tif gene: \n",
    "\t\t\t\t\t\t\tgenes.append(gene)\n",
    "\t\t\t\t\t\t\ttotal_genes.append(gene)\n",
    "\t\t\t\t\t\t\tnum_genes += 1\n",
    "\t\t\t\t\t\t\tg_p[gene] = p_value\n",
    "\t\t\telse:\n",
    "\t\t\t\tif (p_value < 0.000005):\n",
    "\t\t\t\t\tformatted_gene = associated_gene.replace('\"', '').replace(',', '').replace(';', '').replace('-', '')\n",
    "\t\t\t\t\tmapped_genes = formatted_gene.split(' ')\n",
    "\t\t\t\t\tfor gene in mapped_genes:\n",
    "\t\t\t\t\t\tif gene: \n",
    "\t\t\t\t\t\t\tgenes.append(gene)\n",
    "\t\t\t\t\t\t\ttotal_genes.append(gene)\n",
    "\t\t\t\t\t\t\tnum_genes += 1\n",
    "\t\t\t\t\t\t\tg_p[gene] = p_value\n",
    "\n",
    "\t\tfirst_line = 1\n",
    "\t\n",
    "\t#print(\"Number of mapped genes: \", num_genes, \"\\nNumber of associations: \", num_assoc)\n",
    "\treturn genes, g_p"
   ]
  },
  {
   "cell_type": "code",
   "execution_count": 7,
   "metadata": {},
   "outputs": [],
   "source": [
    "def readCancerGenes():\n",
    "    fx = open(os.path.join('./Diseases', 'vogelstein.txt'))\n",
    "    genes = fx.read().splitlines()\n",
    "    return genes"
   ]
  },
  {
   "cell_type": "markdown",
   "metadata": {},
   "source": [
    "Functions for Shortest Path and Components"
   ]
  },
  {
   "cell_type": "code",
   "execution_count": 6,
   "metadata": {},
   "outputs": [],
   "source": [
    "# Calculate the shortest path between component A and B\n",
    "def shortestPath(G, A, B):\n",
    "    shortest_length = sys.maxint\n",
    "    paths = []\n",
    "\n",
    "    for source in A.nodes():\n",
    "        for target in B.nodes():\n",
    "            path = nx.shortest_path(G, source=source, target=target)\n",
    "            l = len(path)\n",
    "            paths.append(l)\n",
    "\n",
    "            if l < shortest_length:\n",
    "                shortest_length = l\n",
    "                shortest_path = path\n",
    "\n",
    "    #print nx.average_clustering(A)\n",
    "    #print nx.average_clustering(B)\n",
    "    return shortest_length, shortest_path\n",
    "\n",
    "def all_shortest_paths(G, A, B, genes):\n",
    "    new_nodes = []\n",
    "    for source in A.nodes():\n",
    "        for target in B.nodes():\n",
    "            # List of all lists of shortest paths from node A to node B\n",
    "            gen = nx.all_shortest_paths(G, source=source, target=target)\n",
    "            for path in gen:\n",
    "                #this is a list\n",
    "                for new_gene in path:\n",
    "                    # if it is not already in the list of genes\n",
    "                    if new_gene not in genes:\n",
    "                        new_nodes.append(new_gene)\n",
    "    return new_nodes\n",
    "\n",
    "#Number of Paths\n",
    "def numPaths(G, A, B):\n",
    "    path_lengths = []\n",
    "\n",
    "    for source in A.nodes():\n",
    "        for target in B.nodes():\n",
    "            generator = nx.all_simple_paths(G, source=source, target=target)\n",
    "            l = len(list(generator))\n",
    "            path_lengths.append(l)\n",
    "    return path_lengths\n",
    "\n",
    "# Get two largest components for a given graph\n",
    "def get_components(G, subgraph):\n",
    "    Gcc=sorted(nx.connected_component_subgraphs(subgraph), key = len, reverse=True)\n",
    "    G0 = Gcc[0]\n",
    "    G1 = Gcc[1]\n",
    "\n",
    "    #show_components(G, G0, G1)\n",
    "    return G0, G1\n",
    "\n",
    "# Check if a node is in the GWAS file for a given diseases\n",
    "def check(node, disease):\n",
    "    f = open(os.path.join('./Diseases', disease))\n",
    "\n",
    "    first_line = 0\n",
    "\n",
    "    for line in f:\n",
    "        if (first_line == 1):\n",
    "            x = line.split('\\t')\n",
    "            associated_gene = x[14]\n",
    "\n",
    "            formatted_gene = associated_gene.replace('\"', '').replace(',', '').replace(';', '').replace('-', '')\n",
    "            mapped_genes = formatted_gene.split(' ')\n",
    "            for gene in mapped_genes:\n",
    "                if gene == node:\n",
    "                    p_value = Decimal(x[27])\n",
    "                    print node, \" : \", p_value\n",
    "                    return\n",
    "\n",
    "        first_line = 1\n",
    "    print \"node not found: \", node\n",
    "\n",
    "def show_components(G, first, second):\n",
    "    #WORK IN PROGRESS\n",
    "    first_nodes = list(first.nodes)\n",
    "    second_nodes = list(second.nodes)\n",
    "    plt.show()"
   ]
  },
  {
   "cell_type": "markdown",
   "metadata": {},
   "source": [
    "Get Components, Shortest Path between them, Diameters of each component"
   ]
  },
  {
   "cell_type": "code",
   "execution_count": 32,
   "metadata": {},
   "outputs": [
    {
     "name": "stdout",
     "output_type": "stream",
     "text": [
      "Diameter 1:  6\n",
      "Diameter 2:  1\n",
      "3\n",
      "[u'AKT1', u'IKBKG', 'CYLD']\n"
     ]
    }
   ],
   "source": [
    "file = 'gwas_waist_hip.tsv'\n",
    "#genes, g_p = readGwasAssociationFile(file)\n",
    "genes = readCancerGenes()\n",
    "H = G.subgraph(genes)\n",
    "\n",
    "first, second = get_components(G, H)\n",
    "print \"Diameter 1: \", nx.diameter(first)\n",
    "print \"Diameter 2: \", nx.diameter(second)\n",
    "length, path = shortestPath(G, first, second)\n",
    "print length\n",
    "print path"
   ]
  },
  {
   "cell_type": "markdown",
   "metadata": {},
   "source": [
    "Generate a list of all the the sizes of largest/second largest components"
   ]
  },
  {
   "cell_type": "code",
   "execution_count": 55,
   "metadata": {},
   "outputs": [],
   "source": [
    "for i in range(0,N):\n",
    "    genes = random.sample(nodes_all, k)\n",
    "\n",
    "    H = G.subgraph(genes)\n",
    "    nodes = nx.number_of_nodes(H)\n",
    "\n",
    "    if (nodes != 0):\n",
    "        Gcc =sorted(nx.connected_component_subgraphs(H), key = len, reverse=True)\n",
    "        G0 = nx.number_of_nodes(Gcc[0])\n",
    "        G1 = nx.number_of_nodes(Gcc[1])\n",
    "\n",
    "        firsts.append(G0)\n",
    "        seconds.append(G1)"
   ]
  },
  {
   "cell_type": "code",
   "execution_count": 56,
   "metadata": {
    "scrolled": true
   },
   "outputs": [
    {
     "data": {
      "image/png": "[encoded data removed]",
      "text/plain": [
       "<matplotlib.figure.Figure at 0x151ab79950>"
      ]
     },
     "metadata": {},
     "output_type": "display_data"
    },
    {
     "data": {
      "image/png": "[encoded data removed]",
      "text/plain": [
       "<matplotlib.figure.Figure at 0x151ab79210>"
      ]
     },
     "metadata": {},
     "output_type": "display_data"
    }
   ],
   "source": [
    "plt.hist(firsts)\n",
    "plt.xlabel('Distribution of Largest Components')\n",
    "plt.show()\n",
    "plt.hist(seconds)\n",
    "plt.xlabel('Distibution of Second Largest Components')\n",
    "plt.show()"
   ]
  },
  {
   "cell_type": "markdown",
   "metadata": {},
   "source": [
    "Print Data on First and Second Components (SP, Diameters, CC)"
   ]
  },
  {
   "cell_type": "code",
   "execution_count": 35,
   "metadata": {},
   "outputs": [
    {
     "name": "stdout",
     "output_type": "stream",
     "text": [
      "('Average Shortest Path over 1000 trials: ', 4.145)\n",
      "('Average Diameter of Component 1: ', 11.305)\n",
      "('P(X>x) Component 1: 12 ', 0.273)\n",
      "('P(X>x) Component 1: 7 ', 0.964)\n",
      "('P(X>x) Component 1: 5 ', 0.996)\n",
      "('Average Diameter of Component 2: ', 2.982)\n",
      "('P(X>x) Component 2: ', 0.137)\n",
      "('Average CC of Component 1: ', 0.28644536186197633)\n",
      "('Average CC of Component 2: ', 0.642050023028217)\n"
     ]
    }
   ],
   "source": [
    "for i in range(0,N):\n",
    "    genes = random.sample(nodes_all, k)\n",
    "    shortest_length = sys.maxint\n",
    "    \n",
    "    H = G.subgraph(genes)\n",
    "    nodes = nx.number_of_nodes(H)\n",
    "\n",
    "    if (nodes != 0):\n",
    "        #Get All Components\n",
    "        Gcc = sorted(nx.connected_component_subgraphs(H), key = len, reverse=True)\n",
    "        first = Gcc[0]\n",
    "        second = Gcc[1]\n",
    "        G0 = nx.number_of_nodes(first)\n",
    "        G1 = nx.number_of_nodes(second)\n",
    "        \n",
    "        #Diameter\n",
    "        c1_diam.append(nx.diameter(first))\n",
    "        if nx.diameter(first) > 12:\n",
    "            c1d += 1\n",
    "        if nx.diameter(second) > 5:\n",
    "            c2d += 1\n",
    "        if nx.diameter(first) > 7:\n",
    "            c1dd += 1\n",
    "        if nx.diameter(first) > 5:\n",
    "            c1ddd += 1\n",
    "   \n",
    "        c2_diam.append(nx.diameter(second))\n",
    "        #Clustering Coefficients\n",
    "        cc1.append(nx.average_clustering(first))\n",
    "        cc2.append(nx.average_clustering(second))\n",
    "\n",
    "        #Shortest Path between Components\n",
    "        for source in first.nodes():\n",
    "            for target in second.nodes():\n",
    "                path = nx.shortest_path(G, source=source, target=target)\n",
    "                l = len(path)\n",
    "                \n",
    "                if l < shortest_length:\n",
    "                    shortest_length = l\n",
    "        paths.append(l) #add the shortest path to a running list of 1000 shortest paths\n",
    "\n",
    "print(\"Average Shortest Path over 1000 trials: \", sum(paths)/1000.0)\n",
    "print(\"Average Diameter of Component 1: \", sum(c1_diam)/1000.0)\n",
    "print(\"P(X>x) Component 1: 12 \", float(c1d)/1000.0)\n",
    "print(\"P(X>x) Component 1: 7 \", float(c1dd)/1000.0)\n",
    "print(\"P(X>x) Component 1: 5 \", float(c1ddd)/1000.0)\n",
    "\n",
    "print(\"Average Diameter of Component 2: \", sum(c2_diam)/1000.0)\n",
    "print(\"P(X>x) Component 2: \", float(c2d)/1000.0)\n",
    "\n",
    "print(\"Average CC of Component 1: \", sum(cc1)/1000.0)\n",
    "print(\"Average CC of Component 2: \", sum(cc2)/1000.0)"
   ]
  },
  {
   "cell_type": "code",
   "execution_count": 59,
   "metadata": {},
   "outputs": [
    {
     "data": {
      "image/png": "[encoded data removed]",
      "text/plain": [
       "<matplotlib.figure.Figure at 0x15210f8150>"
      ]
     },
     "metadata": {},
     "output_type": "display_data"
    }
   ],
   "source": [
    "plt.hist(paths)\n",
    "plt.xlabel('Distribution of Shortest Paths Between Components')\n",
    "plt.show()"
   ]
  },
  {
   "cell_type": "markdown",
   "metadata": {},
   "source": [
    "Display the Two Components"
   ]
  },
  {
   "cell_type": "code",
   "execution_count": 34,
   "metadata": {},
   "outputs": [
    {
     "data": {
      "image/png": "[encoded data removed]",
      "text/plain": [
       "<matplotlib.figure.Figure at 0x115430110>"
      ]
     },
     "metadata": {},
     "output_type": "display_data"
    }
   ],
   "source": [
    "file = 'gwas_depression.tsv'\n",
    "genes, g_p = readGwasAssociationFile(file)\n",
    "H = G.subgraph(genes)\n",
    "Gcc=sorted(nx.connected_component_subgraphs(H), key = len, reverse=True)\n",
    "G0 = Gcc[0]\n",
    "G1 = Gcc[1]\n",
    "\n",
    "F = nx.compose(G0, G1)\n",
    "nodes = F.nodes()\n",
    "pos=nx.spring_layout(F)\n",
    "\n",
    "for n in nodes:\n",
    "    if g_p[n] < 0.000000001:\n",
    "        sm.append(n)\n",
    "    elif g_p[n] < 0.000000005:\n",
    "        sm_1.append(n)\n",
    "    elif g_p[n] < 0.00000001:\n",
    "        mid.append(n)\n",
    "    elif g_p[n] < 0.00000005:\n",
    "        lg_1.append(n)\n",
    "    elif g_p[n] < 0.0000001:\n",
    "        lg_2.append(n)\n",
    "    else:\n",
    "        lg_3.append(n)\n",
    "\n",
    "b0 = mpatches.Patch(color='#f6fefd', label='< 10e-9')\n",
    "b1 = mpatches.Patch(color='#a6faf1', label='< 5 x 10e-9')\n",
    "b2 = mpatches.Patch(color='#6beaf9', label='< 10e-8')\n",
    "b3 = mpatches.Patch(color='#3ca3e8', label='< 5 x 10e-8')\n",
    "b4 = mpatches.Patch(color='#0E5FF6', label='< 10e-7')\n",
    "b5 = mpatches.Patch(color='#033579', label='> 10e-7')\n",
    "l = [b0, b1, b2, b3, b4, b5]\n",
    "fig, ax = plt.subplots()\n",
    "ax.legend(l, ['< 10e-9', '< 5 x 10e-9', '< 10e-8', '< 5 x 10e-8', \"< 10e-7\", \"> 10e-7\"])\n",
    "#plt.legend()\n",
    "\n",
    "nx.draw_networkx_nodes(F,pos,nodelist=sm,node_color='#f6fefd',node_size=300,alpha=0.9)\n",
    "nx.draw_networkx_nodes(F,pos,nodelist=sm_1,node_color='#a6faf1',node_size=300,alpha=0.9)\n",
    "nx.draw_networkx_nodes(F,pos,nodelist=mid,node_color='#6beaf9',node_size=300,alpha=0.9)\n",
    "nx.draw_networkx_nodes(F,pos,nodelist=lg_1,node_color='#3ca3e8',node_size=300,alpha=0.9)\n",
    "nx.draw_networkx_nodes(F,pos,nodelist=lg_2,node_color='#0E5FF6',node_size=300,alpha=0.9)\n",
    "nx.draw_networkx_nodes(F,pos,nodelist=lg_3,node_color='#033579',node_size=300,alpha=0.9)\n",
    "\n",
    "nx.draw_networkx_edges(F,pos=pos)\n",
    "#nx.draw_networkx_labels(F, pos=pos)\n",
    "\n",
    "plt.show()"
   ]
  },
  {
   "cell_type": "markdown",
   "metadata": {},
   "source": [
    "Print P-Values for the First Two Components"
   ]
  },
  {
   "cell_type": "code",
   "execution_count": 27,
   "metadata": {
    "scrolled": true
   },
   "outputs": [
    {
     "name": "stdout",
     "output_type": "stream",
     "text": [
      "First Component: \n",
      "SP8 : 5E-7\n",
      "ZNRD1 : 8E-9\n",
      "RARB : 0.000001\n",
      "APOB : 0.000001\n",
      "KMT2D : 6E-8\n",
      "NOTCH4 : 0.000002\n",
      "RXRG : 4E-7\n",
      "KAT2B : 0.000005\n",
      "TCF7L2 : 3E-7\n",
      "MKL1 : 0.000004\n",
      "TLE4 : 0.000001\n",
      "SORBS1 : 0.000003\n",
      "COLEC12 : 0.000004\n",
      "NUMB : 7E-7\n",
      "GRIP1 : 0.000001\n",
      "ZMIZ1 : 0.000005\n",
      "FADS2 : 1E-10\n",
      "\n",
      "Second Component:\n",
      "KCNMB2 : 0.000001\n",
      "NCAN : 2E-9\n",
      "ADCY2 : 2E-8\n",
      "CACNB3 : 0.000001\n",
      "CACNB2 : 4E-8\n",
      "CACNA1C : 2E-7\n",
      "PPP2R2B : 0.000002\n",
      "CAMK2D : 0.000004\n",
      "COL4A2 : 0.000004\n",
      "CACNA2D3 : 0.000004\n",
      "CACNA2D1 : 0.000005\n",
      "CACNG4 : 6E-7\n",
      "NCAM1 : 0.000002\n"
     ]
    }
   ],
   "source": [
    "# Make sure to refresh top cell\n",
    "print \"First Component: \"\n",
    "first, second = get_components(G, H)\n",
    "for gene in first:\n",
    "    print gene + \" : \" + str(g_p[gene])\n",
    "print \"\\nSecond Component:\"\n",
    "for gene in second:\n",
    "    print gene + \" : \" + str(g_p[gene])"
   ]
  },
  {
   "cell_type": "code",
   "execution_count": null,
   "metadata": {},
   "outputs": [],
   "source": [
    "first, second = get_components(G, H)\n",
    "pathz = numPaths(G, first, second)\n",
    "plt.hist(pathz)\n",
    "plt.xlabel('Distribution of Path Lengths')\n",
    "plt.show()"
   ]
  },
  {
   "cell_type": "markdown",
   "metadata": {},
   "source": [
    "Computes Distribution of Degrees of Nodes in First Two Components"
   ]
  },
  {
   "cell_type": "code",
   "execution_count": 55,
   "metadata": {
    "scrolled": false
   },
   "outputs": [
    {
     "data": {
      "image/png": "[encoded data removed]",
      "text/plain": [
       "<matplotlib.figure.Figure at 0x10721ca50>"
      ]
     },
     "metadata": {},
     "output_type": "display_data"
    },
    {
     "data": {
      "image/png": "[encoded data removed]",
      "text/plain": [
       "<matplotlib.figure.Figure at 0x108f8d410>"
      ]
     },
     "metadata": {},
     "output_type": "display_data"
    }
   ],
   "source": [
    "file = 'gwas_depression.tsv'\n",
    "genes, g_p = readGwasAssociationFile(file)\n",
    "H = G.subgraph(genes)\n",
    "degrees = []\n",
    "first, second = get_components(G, H)\n",
    "for node in first:\n",
    "    degrees.append(G.degree(node))\n",
    "for node in second:\n",
    "    degrees.append(G.degree(node))\n",
    "\n",
    "plt.hist(degrees)\n",
    "plt.show()\n",
    "\n",
    "file = 'gwas_bipolar_disorder.tsv'\n",
    "genes, g_p = readGwasAssociationFile(file)\n",
    "H = G.subgraph(genes)\n",
    "degrees = []\n",
    "first, second = get_components(G, H)\n",
    "for node in first:\n",
    "    degrees.append(G.degree(node))\n",
    "for node in second:\n",
    "    degrees.append(G.degree(node))\n",
    "\n",
    "plt.hist(degrees)\n",
    "plt.show()"
   ]
  },
  {
   "cell_type": "raw",
   "metadata": {},
   "source": [
    "Combined Depression, Bipolar Disorder, Schizophrenia Analysis`"
   ]
  },
  {
   "cell_type": "code",
   "execution_count": 52,
   "metadata": {},
   "outputs": [
    {
     "name": "stdout",
     "output_type": "stream",
     "text": [
      "# Nodes in all 3 samples\n",
      "('P(X>x) = ', 0.0)\n",
      "# Nodes in group 1 and 2\n",
      "('P(X>x) = ', 0.0)\n",
      "# Nodes in group 1 and 3\n",
      "('P(X>x) = ', 0.415)\n",
      "# Nodes in group 2 and 3\n",
      "('P(X>x) = ', 0.795)\n",
      "# Nodes in group 1\n",
      "('P(X>x) = ', 1.0)\n",
      "# Nodes in group 2\n",
      "('P(X>x) = ', 1.0)\n",
      "# Nodes in group 3\n",
      "('P(X>x) = ', 1.0)\n"
     ]
    },
    {
     "data": {
      "image/png": "[encoded data removed]",
      "text/plain": [
       "<matplotlib.figure.Figure at 0x1176c0990>"
      ]
     },
     "metadata": {},
     "output_type": "display_data"
    }
   ],
   "source": [
    "nodes_all = G.nodes()\n",
    "k_1 = 153 #bipolar\n",
    "k_2 = 190 #depression\n",
    "k_3 = 157 #schizo\n",
    "grp_all = grp_12 = grp_13 = grp_23 = grp_1 = grp_2 = grp_3 = alls = []\n",
    "gt_all = gt_12 = gt_13 = gt_23 = gt_1 = gt_2 = gt_3 = pr_largest_component = 0\n",
    "\n",
    "for i in range(0,N):\n",
    "    group_1 = random.sample(nodes_all, k_1)\n",
    "    group_2 = random.sample(nodes_all, k_2)\n",
    "    group_3 = random.sample(nodes_all, k_3)\n",
    "    genes = group_1 + group_2 + group_3\n",
    "    \n",
    "    h1 = G.subgraph(group_1)\n",
    "    h2 = G.subgraph(group_2)\n",
    "    h3 = G.subgraph(group_3)\n",
    "    # Take subgraph of these combined graphs\n",
    "    H_1 = nx.compose(h1, h2)\n",
    "    F = nx.compose(H_1,h3)\n",
    "    # Get first two components\n",
    "    #Gcc=sorted(nx.connected_component_subgraphs(H), key = len, reverse=True)\n",
    "    #G0 = Gcc[0]\n",
    "    #G1 = Gcc[1]\n",
    "    \n",
    "    # Graph of only the first two largest components\n",
    "    #F = nx.compose(G0, G1)\n",
    "    nodes = list(F.nodes())\n",
    "    grp_all = []\n",
    "    grp_12 = []\n",
    "    grp_13 = []\n",
    "    grp_23 = []\n",
    "    grp_1 = []\n",
    "    grp_2 = []\n",
    "    grp_3 = []\n",
    "    \n",
    "    #if nx.number_of_nodes(Gcc[0]) > 165:\n",
    "       # pr_largest_component += 1\n",
    "    \n",
    "    for n in nodes:\n",
    "        if ((n in group_1) and (n in group_2) and (n in group_3)):\n",
    "            grp_all.append(n)\n",
    "        elif (n in group_1 and n in group_2):\n",
    "            grp_12.append(n)\n",
    "        elif (n in group_1 and n in group_3):\n",
    "            grp_13.append(n)\n",
    "        elif (n in group_2 and n in group_3):\n",
    "            grp_23.append(n)\n",
    "        elif n in group_3:\n",
    "            grp_3.append(n)\n",
    "        elif n in group_1:\n",
    "            grp_1.append(n)\n",
    "        elif n in group_2:\n",
    "            grp_2.append(n)\n",
    "    if len(grp_all) > 11:\n",
    "        gt_all += 1\n",
    "    if len(grp_12) > 55:\n",
    "        gt_12 += 1\n",
    "    if len(grp_13) > 2:\n",
    "        gt_13 += 1\n",
    "    if len(grp_23) > 1:\n",
    "        gt_23 += 1\n",
    "    if len(grp_1) > 14:\n",
    "        gt_1 += 1\n",
    "    if len(grp_2) > 33:\n",
    "        gt_2 += 1\n",
    "    if len(grp_3) > 53:\n",
    "        gt_3 += 1\n",
    "    alls.append(len(grp_all))\n",
    "        \n",
    "\n",
    "#print(\"Largest Connected Component\")\n",
    "#print(\"P(X>x) = \", float(pr_largest_component)/float(N))\n",
    "\n",
    "print(\"# Nodes in all 3 samples\")\n",
    "print(\"P(X>x) = \", float(gt_all)/float(N))\n",
    "\n",
    "print(\"# Nodes in group 1 and 2\")\n",
    "print(\"P(X>x) = \", float(gt_12)/float(N))\n",
    "\n",
    "print(\"# Nodes in group 1 and 3\")\n",
    "print(\"P(X>x) = \", float(gt_13)/float(N))\n",
    "\n",
    "print(\"# Nodes in group 2 and 3\")\n",
    "print(\"P(X>x) = \", float(gt_23)/float(N))\n",
    "\n",
    "print(\"# Nodes in group 1\")\n",
    "print(\"P(X>x) = \", float(gt_1)/float(N))\n",
    "\n",
    "print(\"# Nodes in group 2\")\n",
    "print(\"P(X>x) = \", float(gt_2)/float(N))\n",
    "\n",
    "print(\"# Nodes in group 3\")\n",
    "print(\"P(X>x) = \", float(gt_3)/float(N))\n",
    "\n",
    "plt.hist(alls)\n",
    "plt.xlabel('Distribution of Number of Nodes in All 3 Sets')\n",
    "plt.show()"
   ]
  },
  {
   "cell_type": "code",
   "execution_count": 45,
   "metadata": {},
   "outputs": [
    {
     "name": "stdout",
     "output_type": "stream",
     "text": [
      "# Nodes in group 1 and 2\n",
      "('P(X>x) = ', 0.0)\n",
      "# Nodes in group 1\n",
      "('P(X>x) = ', 1.0)\n",
      "# Nodes in group 2\n",
      "('P(X>x) = ', 1.0)\n"
     ]
    }
   ],
   "source": [
    "nodes_all = G.nodes()\n",
    "k_1 = 153 #bipolar\n",
    "k_2 = 190 #depression\n",
    "\n",
    "grp_12 = grp_1 = grp_2 = []\n",
    "gt_12 = gt_1 = gt_2 = 0\n",
    "\n",
    "for i in range(0,N):\n",
    "    group_1 = random.sample(nodes_all, k_1)\n",
    "    group_2 = random.sample(nodes_all, k_2)\n",
    "\n",
    "    h1 = G.subgraph(group_1)\n",
    "    h2 = G.subgraph(group_2)\n",
    "    genes = group_1 + group_2\n",
    "    # Take subgraph of these combined graphs\n",
    "    H = nx.compose(h1, h2)\n",
    "    nodes = list(H.nodes())\n",
    "    \n",
    "    grp_12 = []\n",
    "    grp_1 = []\n",
    "    grp_2 = []\n",
    "\n",
    "    for n in nodes:\n",
    "        if ((n in group_1) and (n in group_2)):\n",
    "            grp_12.append(n)\n",
    "        elif n in group_1 and n not in group_2:\n",
    "            grp_1.append(n)\n",
    "        elif n in group_2 and n not in group_1:\n",
    "            grp_2.append(n)\n",
    "\n",
    "    if len(grp_12) > 119:\n",
    "        gt_12 += 1\n",
    "    if len(grp_1) > 34:\n",
    "        gt_1 += 1\n",
    "    if len(grp_2) > 71:\n",
    "        gt_2 += 1        \n",
    "\n",
    "print(\"# Nodes in group 1 and 2\")\n",
    "print(\"P(X>x) = \", float(gt_12)/float(N))\n",
    "\n",
    "print(\"# Nodes in group 1\")\n",
    "print(\"P(X>x) = \", float(gt_1)/float(N))\n",
    "\n",
    "print(\"# Nodes in group 2\")\n",
    "print(\"P(X>x) = \", float(gt_2)/float(N))\n",
    "\n"
   ]
  }
 ],
 "metadata": {
  "kernelspec": {
   "display_name": "Python 2",
   "language": "python",
   "name": "python2"
  },
  "language_info": {
   "codemirror_mode": {
    "name": "ipython",
    "version": 2
   },
   "file_extension": ".py",
   "mimetype": "text/x-python",
   "name": "python",
   "nbconvert_exporter": "python",
   "pygments_lexer": "ipython2",
   "version": "2.7.14"
  }
 },
 "nbformat": 4,
 "nbformat_minor": 2
}
