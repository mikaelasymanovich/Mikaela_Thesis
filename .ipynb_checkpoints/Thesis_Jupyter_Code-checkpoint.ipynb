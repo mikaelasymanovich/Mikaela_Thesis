{
 "cells": [
  {
   "cell_type": "code",
   "execution_count": 1,
   "metadata": {},
   "outputs": [],
   "source": [
    "import networkx as nx\n",
    "import matplotlib.pyplot as plt\n",
    "from decimal import Decimal\n",
    "import numpy as np\n",
    "import os\n",
    "import random\n",
    "import pylab as P\n",
    "import pandas as pd\n",
    "import math\n",
    "import sys\n",
    "import matplotlib.patches as mpatches\n",
    "from matplotlib_venn import venn3\n",
    "import scipy.stats as stats"
   ]
  },
  {
   "cell_type": "code",
   "execution_count": 36,
   "metadata": {},
   "outputs": [],
   "source": [
    "fh = open(os.path.join('./PPI_Graphs', 'reactomefi2015.tsv'), 'rb')\n",
    "G = nx.read_edgelist(fh, delimiter='\\t')\n",
    "fh.close()\n",
    "nodes_all = list(G.nodes())"
   ]
  },
  {
   "cell_type": "code",
   "execution_count": 37,
   "metadata": {},
   "outputs": [],
   "source": [
    "file = 'gwas_depression.tsv'\n",
    "genes, g_p, total_genes = readGwasAssociationFile(file)\n",
    "H = G.subgraph(genes)"
   ]
  },
  {
   "cell_type": "code",
   "execution_count": 73,
   "metadata": {},
   "outputs": [
    {
     "name": "stdout",
     "output_type": "stream",
     "text": [
      "232\n",
      "12.0\n",
      "909\n",
      "2.7683255258541696e-06\n"
     ]
    }
   ],
   "source": [
    "nodes_all = list(G.nodes()) #all nodes in PPI graph\n",
    "degrees = []\n",
    "for n in total_genes:\n",
    "    if n in nodes:\n",
    "        degrees.append(G.degree(n))\n",
    "#a = np.array(degrees)\n",
    "print np.median(degrees)\n",
    "\n",
    "#p_vals = g_p.values()\n",
    "#print len(p_vals)\n",
    "#print np.average(p_vals)\n"
   ]
  },
  {
   "cell_type": "code",
   "execution_count": 49,
   "metadata": {},
   "outputs": [],
   "source": [
    "ll = 0; lh = 0; hl = 0; hh = 0;\n",
    "pvals = []\n",
    "nodes = list(G.nodes())\n",
    "for c in range(1,300):\n",
    "    for key, val in g_p.items():\n",
    "        if key in nodes:\n",
    "            if G.degree(key) > c and val > 0.000005: #high degree, high p val\n",
    "                hh += 1\n",
    "            elif G.degree(key) <= c and val > 5e-06: #low degree, high p val\n",
    "                lh += 1\n",
    "            elif G.degree(key) > c and val <= 5e-06: #high degree, low p val\n",
    "                hl += 1\n",
    "            elif G.degree(key) <= c and val <= 5e-06: #high degree, low p val:\n",
    "                ll += 1\n",
    "    table = [[hh, hl], [lh, ll]]\n",
    "    oddsratio, pvalue = stats.fisher_exact(table)\n",
    "    pvals.append(pvalue)\n",
    "\n",
    "#35 0.0000013\n",
    "            "
   ]
  },
  {
   "cell_type": "code",
   "execution_count": 56,
   "metadata": {},
   "outputs": [],
   "source": [
    "ll = 0; lh = 0; hl = 0; hh = 0;\n",
    "pvals = []\n",
    "nodes = list(G.nodes())\n",
    "for c in range(79,163):\n",
    "    for key, val in g_p.items():\n",
    "        if key in nodes:\n",
    "            if G.degree(key) > c and val > 0.000005: #high degree, high p val\n",
    "                hh += 1\n",
    "            elif G.degree(key) <= c and val > 5e-06: #low degree, high p val\n",
    "                lh += 1\n",
    "            elif G.degree(key) > c and val <= 5e-06: #high degree, low p val\n",
    "                hl += 1\n",
    "            elif G.degree(key) <= c and val <= 5e-06: #high degree, low p val:\n",
    "                ll += 1\n",
    "    table = [[hh, hl], [lh, ll]]\n",
    "    oddsratio, pvalue = stats.fisher_exact(table)\n",
    "    pvals.append(pvalue)\n"
   ]
  },
  {
   "cell_type": "code",
   "execution_count": 62,
   "metadata": {},
   "outputs": [
    {
     "name": "stdout",
     "output_type": "stream",
     "text": [
      "[0.5648434184674258, 0.4144801458769446, 0.3172410439632236, 0.24800949593051952, 0.19646106625238535, 0.1570600707701803, 0.1876644581756057, 0.18094418567661902, 0.2414928492285727, 0.30612161823392614, 0.37179714889809595, 0.391725834263116, 0.4562781778630026, 0.521620042521053, 0.5355004047548537, 0.5981244542839363, 0.6602239479223038, 0.6690962749136007, 0.7280625696332108, 0.7337155122213926, 0.7386601917742468, 0.6949020620934406, 0.6999395345771611, 0.6586879480962677, 0.6634636807928319, 0.6246270000597448, 0.5874360948981028, 0.5517446156085916, 0.4806300711712447, 0.4165064895574106, 0.38887410717447846, 0.3344650047765867, 0.2864419299172951, 0.26588756774316363, 0.2255452176890233, 0.1903795659289058, 0.15993676980185653, 0.1337534715251693, 0.11137180645549377, 0.09235083340634148, 0.07627475284306601, 0.0627583509083095, 0.05145013272098674, 0.04203359925669804, 0.038620694375031475, 0.03977757481096461, 0.03650496048915659, 0.03355286199286733, 0.03454897887943152, 0.031717043041140015, 0.032738980383423544, 0.030020237809751743, 0.027568710834987797, 0.03191871373301214, 0.03295126967092775, 0.03770578205486591, 0.03860878168896708, 0.039561933753919004, 0.04500993478339098, 0.045982602571760504, 0.047008683372279064, 0.053191549676805075, 0.054230685775190385, 0.05532636200304053, 0.056192768414083286, 0.05705986774153393, 0.05792762279495965, 0.05879599593024693, 0.05966494914312756, 0.06053444419562562, 0.06140444266203295, 0.06227490605919128, 0.06314579586898374, 0.07749801632733498, 0.08634607129055533, 0.10449269485973031, 0.1255541029584929, 0.13805793161683835, 0.16372588235225002, 0.19281541779909384, 0.20951798053632364, 0.2437598219775399, 0.2633129459907018, 0.30283153749387526]\n",
      "0.04203359925669804\n",
      "122\n",
      "0.038620694375031475\n",
      "123\n",
      "0.03977757481096461\n",
      "124\n",
      "0.03650496048915659\n",
      "125\n",
      "0.03355286199286733\n",
      "126\n",
      "0.03454897887943152\n",
      "127\n",
      "0.031717043041140015\n",
      "128\n",
      "0.032738980383423544\n",
      "129\n",
      "0.030020237809751743\n",
      "130\n",
      "0.027568710834987797\n",
      "131\n",
      "0.03191871373301214\n",
      "132\n",
      "0.03295126967092775\n",
      "133\n",
      "0.03770578205486591\n",
      "134\n",
      "0.03860878168896708\n",
      "135\n",
      "0.039561933753919004\n",
      "136\n",
      "0.04500993478339098\n",
      "137\n",
      "0.045982602571760504\n",
      "138\n",
      "0.047008683372279064\n",
      "139\n"
     ]
    }
   ],
   "source": [
    "print pvals\n",
    "for i in range(0,83):\n",
    "    if pvals[i] < 0.05:\n",
    "        print pvals[i]\n",
    "        print i+79"
   ]
  },
  {
   "cell_type": "code",
   "execution_count": 60,
   "metadata": {},
   "outputs": [
    {
     "ename": "IndexError",
     "evalue": "list index out of range",
     "output_type": "error",
     "traceback": [
      "\u001b[0;31m---------------------------------------------------------------------------\u001b[0m",
      "\u001b[0;31mIndexError\u001b[0m                                Traceback (most recent call last)",
      "\u001b[0;32m<ipython-input-60-16d10afe29a8>\u001b[0m in \u001b[0;36m<module>\u001b[0;34m()\u001b[0m\n\u001b[1;32m      1\u001b[0m \u001b[0;32mfor\u001b[0m \u001b[0mi\u001b[0m \u001b[0;32min\u001b[0m \u001b[0mrange\u001b[0m \u001b[0;34m(\u001b[0m\u001b[0;36m0\u001b[0m\u001b[0;34m,\u001b[0m\u001b[0;36m299\u001b[0m\u001b[0;34m)\u001b[0m\u001b[0;34m:\u001b[0m\u001b[0;34m\u001b[0m\u001b[0m\n\u001b[0;32m----> 2\u001b[0;31m     \u001b[0;32mif\u001b[0m \u001b[0mpvals\u001b[0m\u001b[0;34m[\u001b[0m\u001b[0mi\u001b[0m\u001b[0;34m]\u001b[0m \u001b[0;34m<\u001b[0m \u001b[0;36m0.05\u001b[0m\u001b[0;34m:\u001b[0m\u001b[0;34m\u001b[0m\u001b[0m\n\u001b[0m\u001b[1;32m      3\u001b[0m         \u001b[0mi\u001b[0m\u001b[0;34m+=\u001b[0m\u001b[0;36m1\u001b[0m\u001b[0;34m\u001b[0m\u001b[0m\n",
      "\u001b[0;31mIndexError\u001b[0m: list index out of range"
     ]
    }
   ],
   "source": [
    "for i in range (0,299):\n",
    "    if pvals[i] < 0.05:\n",
    "        i+=1"
   ]
  },
  {
   "cell_type": "code",
   "execution_count": 79,
   "metadata": {},
   "outputs": [
    {
     "name": "stdout",
     "output_type": "stream",
     "text": [
      "[0.8586747659964865, 0.6152601351585805, 0.6078253290464757, 0.5353895091026402, 0.5785422894566743, 0.6120436691929284, 0.5914675071379338, 0.6155381155466887, 0.6357732985677154, 0.6939386379115794, 0.7477773810688441, 0.8372891139981986, 0.960613089836593, 1.0, 0.9633168193981465, 0.8584948740912186, 0.7617190014840933, 0.673517761855601, 0.5935355614417956, 0.4959843111245772, 0.45697016421731146, 0.44364966999984157, 0.4091546598021432, 0.39766308219677315, 0.3862158731688622, 0.37524725466316844, 0.3834204357628472, 0.37259970217541283, 0.36221097793089196, 0.3872109913314157, 0.3941612523578786, 0.40091158458946974, 0.40727601214606546, 0.41319320115041985, 0.3843016422758428, 0.3732446215036299, 0.36259902695902435, 0.3369685598331886, 0.299083646004798, 0.2770616244477866, 0.24460980964081536, 0.20503243208636934, 0.17968182653640102, 0.16563095781947734, 0.1525948890527289, 0.13326690189066337, 0.12248242943142532, 0.10655792950846521, 0.09241670321714547, 0.08461408472067389, 0.06898361388642907, 0.06689073433116155, 0.061142581314653464, 0.055859376144914576, 0.047970678191161784, 0.041125817158832984, 0.037414843329342376, 0.03196669007783705, 0.02721439581425169, 0.02164629343530746, 0.019601216606493305, 0.01894718320189641, 0.018293011545425453, 0.016520931697658302, 0.014895094496256249, 0.01342009056769744, 0.012083017626582069, 0.01087194932796532, 0.009775876260838624, 0.00878464876991859]\n"
     ]
    }
   ],
   "source": [
    "c = 22\n",
    "nodes = list(G.nodes())\n",
    "vv = []\n",
    "\n",
    "for c in range(1,300):\n",
    "    ll = 0; lh = 0; hl = 0; hh = 0;\n",
    "    for key, val in g_p.items():\n",
    "        if key in nodes:\n",
    "            if G.degree(key) > c and val > 0.000005: #high degree, high p val\n",
    "                hh += 1\n",
    "            elif G.degree(key) <= c and val > 5e-06: #low degree, high p val\n",
    "                lh += 1\n",
    "            elif G.degree(key) > c and val <= 5e-06: #high degree, low p val\n",
    "                hl += 1\n",
    "            elif G.degree(key) <= c and val <= 5e-06: #high degree, low p val:\n",
    "                ll += 1\n",
    "    table = [[hh, hl], [lh, ll]]\n",
    "    oddsratio, pvalue = stats.fisher_exact(table)\n",
    "    vv.append(pvalue)\n",
    "print vv"
   ]
  },
  {
   "cell_type": "code",
   "execution_count": 75,
   "metadata": {},
   "outputs": [
    {
     "name": "stdout",
     "output_type": "stream",
     "text": [
      "0.8601482830308034\n"
     ]
    }
   ],
   "source": [
    "#table = [[74, 86],[331, 418]]\n",
    "table = [[96, 20], [94, 18]]\n",
    "oddsratio, pvalue = stats.fisher_exact(table)\n",
    "print pvalue"
   ]
  },
  {
   "cell_type": "markdown",
   "metadata": {},
   "source": [
    "# Initialize Variables "
   ]
  },
  {
   "cell_type": "code",
   "execution_count": 80,
   "metadata": {},
   "outputs": [],
   "source": [
    "num_ccs = []\n",
    "largest_ccs = []\n",
    "num_ccs_excluding_ones = []\n",
    "seconds = []\n",
    "firsts = []\n",
    "paths = []\n",
    "c1_diam = []\n",
    "c2_diam= []\n",
    "cc1 = []\n",
    "cc2 = []\n",
    "sm = []\n",
    "sm_1 = []\n",
    "mid = []\n",
    "lg_1 = []\n",
    "lg_2 = []\n",
    "lg_3 = []\n",
    "\n",
    "num_gt_cc = 0\n",
    "num_gt_large_cc = 0\n",
    "num_gt_cc_excluding_ones = 0\n",
    "second_largest_num = 0\n",
    "pr_both = 0\n",
    "c1d = 0\n",
    "c2d = 0\n",
    "c1dd = 0\n",
    "c1ddd = 0\n",
    "lows = 0; meds = 0; highs = 0;"
   ]
  },
  {
   "cell_type": "markdown",
   "metadata": {},
   "source": [
    "# Changing Variables Based on Disease"
   ]
  },
  {
   "cell_type": "code",
   "execution_count": 50,
   "metadata": {},
   "outputs": [],
   "source": [
    "N = 1000\n",
    "k = 353\n",
    "disease_cc_number = 175\n",
    "disease_largest_cc = 165\n",
    "second_largest = 4\n",
    "both_actual = 49\n",
    "disease_cc_number_excluding_ones = 14"
   ]
  },
  {
   "cell_type": "code",
   "execution_count": 53,
   "metadata": {},
   "outputs": [
    {
     "name": "stdout",
     "output_type": "stream",
     "text": [
      "Pr of getting larger median than 12:  0.227\n",
      "11.9875\n"
     ]
    }
   ],
   "source": [
    "nodes_all = G.nodes()\n",
    "gt = 0\n",
    "medians = [];\n",
    "for i in range(0,N):\n",
    "    degrees = []\n",
    "    genes = random.sample(nodes_all, k)\n",
    "    for g in genes:\n",
    "        degrees.append(G.degree(g))\n",
    "    median = np.median(degrees)\n",
    "    if median > 12:\n",
    "        gt += 1;\n",
    "    medians.append(median)\n",
    "print \"Pr of getting larger median than 12: \", float(gt)/N\n",
    "print np.average(medians)\n",
    "    "
   ]
  },
  {
   "cell_type": "markdown",
   "metadata": {},
   "source": [
    "Determine Probabilites for Number of Connected Components, Largest CC, Second Largest CC"
   ]
  },
  {
   "cell_type": "code",
   "execution_count": 19,
   "metadata": {},
   "outputs": [
    {
     "ename": "KeyError",
     "evalue": "3476",
     "output_type": "error",
     "traceback": [
      "\u001b[0;31m---------------------------------------------------------------------------\u001b[0m",
      "\u001b[0;31mKeyError\u001b[0m                                  Traceback (most recent call last)",
      "\u001b[0;32m<ipython-input-19-4e77e9ab0962>\u001b[0m in \u001b[0;36m<module>\u001b[0;34m()\u001b[0m\n\u001b[1;32m      3\u001b[0m \u001b[0;32mfor\u001b[0m \u001b[0mi\u001b[0m \u001b[0;32min\u001b[0m \u001b[0mrange\u001b[0m\u001b[0;34m(\u001b[0m\u001b[0;36m0\u001b[0m\u001b[0;34m,\u001b[0m\u001b[0mN\u001b[0m\u001b[0;34m)\u001b[0m\u001b[0;34m:\u001b[0m\u001b[0;34m\u001b[0m\u001b[0m\n\u001b[1;32m      4\u001b[0m     \u001b[0mgenes\u001b[0m \u001b[0;34m=\u001b[0m \u001b[0mrandom\u001b[0m\u001b[0;34m.\u001b[0m\u001b[0msample\u001b[0m\u001b[0;34m(\u001b[0m\u001b[0mnodes_all\u001b[0m\u001b[0;34m,\u001b[0m \u001b[0mk\u001b[0m\u001b[0;34m)\u001b[0m\u001b[0;34m\u001b[0m\u001b[0m\n\u001b[0;32m----> 5\u001b[0;31m     \u001b[0mg\u001b[0m \u001b[0;34m=\u001b[0m \u001b[0mrandom\u001b[0m\u001b[0;34m.\u001b[0m\u001b[0mchoice\u001b[0m\u001b[0;34m(\u001b[0m\u001b[0mnodes_all\u001b[0m\u001b[0;34m)\u001b[0m\u001b[0;34m\u001b[0m\u001b[0m\n\u001b[0m\u001b[1;32m      6\u001b[0m \u001b[0;34m\u001b[0m\u001b[0m\n\u001b[1;32m      7\u001b[0m     \u001b[0mH\u001b[0m \u001b[0;34m=\u001b[0m \u001b[0mG\u001b[0m\u001b[0;34m.\u001b[0m\u001b[0msubgraph\u001b[0m\u001b[0;34m(\u001b[0m\u001b[0mgenes\u001b[0m\u001b[0;34m)\u001b[0m\u001b[0;34m\u001b[0m\u001b[0m\n",
      "\u001b[0;32m/Users/mikaelasymanovich/anaconda2/lib/python2.7/random.pyc\u001b[0m in \u001b[0;36mchoice\u001b[0;34m(self, seq)\u001b[0m\n\u001b[1;32m    275\u001b[0m     \u001b[0;32mdef\u001b[0m \u001b[0mchoice\u001b[0m\u001b[0;34m(\u001b[0m\u001b[0mself\u001b[0m\u001b[0;34m,\u001b[0m \u001b[0mseq\u001b[0m\u001b[0;34m)\u001b[0m\u001b[0;34m:\u001b[0m\u001b[0;34m\u001b[0m\u001b[0m\n\u001b[1;32m    276\u001b[0m         \u001b[0;34m\"\"\"Choose a random element from a non-empty sequence.\"\"\"\u001b[0m\u001b[0;34m\u001b[0m\u001b[0m\n\u001b[0;32m--> 277\u001b[0;31m         \u001b[0;32mreturn\u001b[0m \u001b[0mseq\u001b[0m\u001b[0;34m[\u001b[0m\u001b[0mint\u001b[0m\u001b[0;34m(\u001b[0m\u001b[0mself\u001b[0m\u001b[0;34m.\u001b[0m\u001b[0mrandom\u001b[0m\u001b[0;34m(\u001b[0m\u001b[0;34m)\u001b[0m \u001b[0;34m*\u001b[0m \u001b[0mlen\u001b[0m\u001b[0;34m(\u001b[0m\u001b[0mseq\u001b[0m\u001b[0;34m)\u001b[0m\u001b[0;34m)\u001b[0m\u001b[0;34m]\u001b[0m  \u001b[0;31m# raises IndexError if seq is empty\u001b[0m\u001b[0;34m\u001b[0m\u001b[0m\n\u001b[0m\u001b[1;32m    278\u001b[0m \u001b[0;34m\u001b[0m\u001b[0m\n\u001b[1;32m    279\u001b[0m     \u001b[0;32mdef\u001b[0m \u001b[0mshuffle\u001b[0m\u001b[0;34m(\u001b[0m\u001b[0mself\u001b[0m\u001b[0;34m,\u001b[0m \u001b[0mx\u001b[0m\u001b[0;34m,\u001b[0m \u001b[0mrandom\u001b[0m\u001b[0;34m=\u001b[0m\u001b[0mNone\u001b[0m\u001b[0;34m)\u001b[0m\u001b[0;34m:\u001b[0m\u001b[0;34m\u001b[0m\u001b[0m\n",
      "\u001b[0;32m/Users/mikaelasymanovich/anaconda2/lib/python2.7/site-packages/networkx/classes/reportviews.pyc\u001b[0m in \u001b[0;36m__getitem__\u001b[0;34m(self, n)\u001b[0m\n\u001b[1;32m    176\u001b[0m \u001b[0;34m\u001b[0m\u001b[0m\n\u001b[1;32m    177\u001b[0m     \u001b[0;32mdef\u001b[0m \u001b[0m__getitem__\u001b[0m\u001b[0;34m(\u001b[0m\u001b[0mself\u001b[0m\u001b[0;34m,\u001b[0m \u001b[0mn\u001b[0m\u001b[0;34m)\u001b[0m\u001b[0;34m:\u001b[0m\u001b[0;34m\u001b[0m\u001b[0m\n\u001b[0;32m--> 178\u001b[0;31m         \u001b[0;32mreturn\u001b[0m \u001b[0mself\u001b[0m\u001b[0;34m.\u001b[0m\u001b[0m_nodes\u001b[0m\u001b[0;34m[\u001b[0m\u001b[0mn\u001b[0m\u001b[0;34m]\u001b[0m\u001b[0;34m\u001b[0m\u001b[0m\n\u001b[0m\u001b[1;32m    179\u001b[0m \u001b[0;34m\u001b[0m\u001b[0m\n\u001b[1;32m    180\u001b[0m     \u001b[0;31m# Set methods\u001b[0m\u001b[0;34m\u001b[0m\u001b[0;34m\u001b[0m\u001b[0m\n",
      "\u001b[0;31mKeyError\u001b[0m: 3476"
     ]
    }
   ],
   "source": [
    "nodes_all = G.nodes()\n",
    "\n",
    "for i in range(0,N):\n",
    "    genes = random.sample(nodes_all, k)\n",
    "\n",
    "    H = G.subgraph(genes)\n",
    "    nodes = nx.number_of_nodes(H)\n",
    "\n",
    "    if (nodes != 0):\n",
    "        cc_number = nx.number_connected_components(H)\n",
    "        num_ccs.append(cc_number) #add number of CC's to list\n",
    "\n",
    "        Gcc = sorted(nx.connected_component_subgraphs(H), key = len, reverse=True)\n",
    "        G0 = nx.number_of_nodes(Gcc[0])\n",
    "        G1 = nx.number_of_nodes(Gcc[1])\n",
    "        largest_ccs.append(G0) #add largest CC to list\n",
    "        both = G0 + G1\n",
    "\n",
    "        cc_number_excuding_ones = 0\n",
    "        for component in Gcc:\n",
    "            if (nx.number_of_nodes(component) != 1):\n",
    "                cc_number_excuding_ones += 1\n",
    "        num_ccs_excluding_ones.append(cc_number_excuding_ones)\n",
    "\n",
    "        if (cc_number > disease_cc_number):\n",
    "            num_gt_cc += 1\n",
    "        if (G0 > disease_largest_cc):\n",
    "            num_gt_large_cc += 1\n",
    "        if (cc_number_excuding_ones > disease_cc_number_excluding_ones):\n",
    "            num_gt_cc_excluding_ones += 1\n",
    "        if (G1 >= second_largest):\n",
    "            second_largest_num += 1\n",
    "            seconds.append(G1)\n",
    "        if (both >= both_actual):\n",
    "            pr_both += 1\n",
    "\n",
    "print(\"Number of Connected Components\")\n",
    "print(\"P(X>x) = \", float(num_gt_cc)/float(N), \"\\n\")\n",
    "\n",
    "print(\"Largest Connected Component\")\n",
    "print(\"P(X>x) = \", float(num_gt_large_cc)/float(N), \"\\n\")\n",
    "\n",
    "print(\"Number of CC's Excluding Single Nodes\")\n",
    "print(\"P(X>x) = \", float(num_gt_cc_excluding_ones)/float(N), \"\\n\")\n",
    "\n",
    "print(\"Probability that the second largest component\")\n",
    "print(\"P(X>x) = \", float(second_largest_num)/float(N))\n",
    "\n",
    "print(\"Probability that the first+second are larger\")\n",
    "print(\"P(X>x) = \", float(pr_both)/float(N))"
   ]
  },
  {
   "cell_type": "code",
   "execution_count": 6,
   "metadata": {},
   "outputs": [
    {
     "name": "stdout",
     "output_type": "stream",
     "text": [
      ".DS_Store\n",
      "gwas_Alzheimer.tsv\n",
      "22\n",
      "gwas_autism.tsv\n",
      "25\n",
      "gwas_bipolar_disorder.tsv\n",
      "30\n",
      "gwas_breast_cancer.tsv\n",
      "33\n",
      "gwas_crohn.tsv\n",
      "44\n",
      "gwas_Dementia.tsv\n",
      "45\n",
      "gwas_depression.tsv\n",
      "32\n",
      "gwas_major_depressive_disorder.tsv\n",
      "14\n",
      "gwas_multiple_sclerosis.tsv\n",
      "25\n",
      "gwas_schizophrenia.tsv\n",
      "36\n",
      "gwas_waist_hip.tsv\n",
      "13\n",
      "ulcerative_colitis.tsv\n",
      "36\n",
      "vogelstein.txt\n"
     ]
    },
    {
     "ename": "AttributeError",
     "evalue": "'str' object has no attribute 'read'",
     "output_type": "error",
     "traceback": [
      "\u001b[0;31m---------------------------------------------------------------------------\u001b[0m",
      "\u001b[0;31mAttributeError\u001b[0m                            Traceback (most recent call last)",
      "\u001b[0;32m<ipython-input-6-dcd5318f0416>\u001b[0m in \u001b[0;36m<module>\u001b[0;34m()\u001b[0m\n\u001b[1;32m      4\u001b[0m     \u001b[0mhighs\u001b[0m \u001b[0;34m=\u001b[0m \u001b[0;36m0\u001b[0m\u001b[0;34m;\u001b[0m\u001b[0;34m\u001b[0m\u001b[0m\n\u001b[1;32m      5\u001b[0m     \u001b[0;32mif\u001b[0m \u001b[0;34m(\u001b[0m\u001b[0mfile\u001b[0m \u001b[0;34m==\u001b[0m \u001b[0;34m'vogelstein.txt'\u001b[0m\u001b[0;34m)\u001b[0m\u001b[0;34m:\u001b[0m\u001b[0;34m\u001b[0m\u001b[0m\n\u001b[0;32m----> 6\u001b[0;31m         \u001b[0mgenes\u001b[0m \u001b[0;34m=\u001b[0m \u001b[0mfile\u001b[0m\u001b[0;34m.\u001b[0m\u001b[0mread\u001b[0m\u001b[0;34m(\u001b[0m\u001b[0;34m)\u001b[0m\u001b[0;34m.\u001b[0m\u001b[0msplitlines\u001b[0m\u001b[0;34m(\u001b[0m\u001b[0;34m)\u001b[0m\u001b[0;34m\u001b[0m\u001b[0m\n\u001b[0m\u001b[1;32m      7\u001b[0m         \u001b[0mH\u001b[0m \u001b[0;34m=\u001b[0m \u001b[0mG\u001b[0m\u001b[0;34m.\u001b[0m\u001b[0msubgraph\u001b[0m\u001b[0;34m(\u001b[0m\u001b[0mgenes\u001b[0m\u001b[0;34m)\u001b[0m\u001b[0;34m\u001b[0m\u001b[0m\n\u001b[1;32m      8\u001b[0m         \u001b[0mnodes\u001b[0m \u001b[0;34m=\u001b[0m \u001b[0mlist\u001b[0m\u001b[0;34m(\u001b[0m\u001b[0mH\u001b[0m\u001b[0;34m.\u001b[0m\u001b[0mnodes\u001b[0m\u001b[0;34m(\u001b[0m\u001b[0;34m)\u001b[0m\u001b[0;34m)\u001b[0m\u001b[0;34m\u001b[0m\u001b[0m\n",
      "\u001b[0;31mAttributeError\u001b[0m: 'str' object has no attribute 'read'"
     ]
    }
   ],
   "source": [
    "lows = []; meds = [];\n",
    "for file in os.listdir('./Diseases'):\n",
    "    print(file)\n",
    "    highs = 0;\n",
    "    if (file == 'vogelstein.txt'):\n",
    "        genes = file.read().splitlines()\n",
    "        H = G.subgraph(genes)\n",
    "        nodes = list(H.nodes())\n",
    "        for n in nodes:\n",
    "            degree = G.degree(n)\n",
    "            if degree > 50:\n",
    "                highs += 1\n",
    "        print highs\n",
    "    elif (file != '.DS_Store'):\n",
    "        genes, g_p, tg = readGwasAssociationFile(file)\n",
    "        H = G.subgraph(genes)\n",
    "        nodes = list(H.nodes())\n",
    "        for n in nodes:\n",
    "            degree = G.degree(n)\n",
    "            if degree > 50:\n",
    "                highs += 1\n",
    "        print highs\n",
    "\n"
   ]
  },
  {
   "cell_type": "code",
   "execution_count": 38,
   "metadata": {},
   "outputs": [
    {
     "name": "stdout",
     "output_type": "stream",
     "text": [
      "Number of Connected Components\n",
      "('P(X>x) = ', 0.0)\n",
      "Largest Connected Component\n",
      "('P(X>x) = ', 0.0)\n",
      "Probability that the second largest component\n",
      "('P(X>x) = ', 0.979)\n",
      "Probability that the Density is larger\n",
      "('P(X>x) = ', 0.983)\n",
      "Probability that the clustering coeff\n",
      "('P(X>x) = ', 0.824)\n"
     ]
    }
   ],
   "source": [
    "nodes_all = G.nodes()\n",
    "\n",
    "num_gt_cc = 0\n",
    "num_gt_large_cc = 0\n",
    "second_largest_num = 0\n",
    "density_pr = 0\n",
    "cluster_coeff_pr = 0\n",
    "N=1000\n",
    "l = 77; m = 31; h = 6; #k = 127;\n",
    "cc_number = 52\n",
    "G0 = 62\n",
    "G1 = 2\n",
    "density = 0.019\n",
    "cluster_coeff = 0.14\n",
    "\n",
    "for i in range(0,N):\n",
    "    genes = []\n",
    "    g_1 = random.sample(lows, l)\n",
    "    g_2 = random.sample(meds, m)\n",
    "    g_3 = random.sample(highs, h)\n",
    "    genes = g_1 + g_2 + g_3\n",
    "\n",
    "\n",
    "    H = G.subgraph(genes)\n",
    "    nodes = nx.number_of_nodes(H)\n",
    "    edges = nx.number_of_edges(H)\n",
    "    if (nodes != 0):\n",
    "        cc = nx.number_connected_components(H)\n",
    "        density_ = (2.0*(edges))/(nodes*(nodes-1.0))\n",
    "        cluster_coeff_ = nx.average_clustering(H)\n",
    "        Gcc = sorted(nx.connected_component_subgraphs(H), key = len, reverse=True)\n",
    "        G0_ = nx.number_of_nodes(Gcc[0])\n",
    "        G1_ = nx.number_of_nodes(Gcc[1])\n",
    "        if (cc > cc_number):\n",
    "            num_gt_cc += 1\n",
    "        if (G0_ > G0):\n",
    "            num_gt_large_cc += 1\n",
    "        if (G1_ > G1):\n",
    "            second_largest_num += 1\n",
    "        if (density_ > density):\n",
    "            density_pr += 1\n",
    "        if (cluster_coeff_ > cluster_coeff):\n",
    "            cluster_coeff_pr += 1\n",
    "\n",
    "print(\"Number of Connected Components\")\n",
    "print(\"P(X>x) = \", float(num_gt_cc)/float(N))\n",
    "\n",
    "print(\"Largest Connected Component\")\n",
    "print(\"P(X>x) = \", float(num_gt_large_cc)/float(N))\n",
    "\n",
    "print(\"Probability that the second largest component\")\n",
    "print(\"P(X>x) = \", float(second_largest_num)/float(N))\n",
    "\n",
    "print(\"Probability that the Density is larger\")\n",
    "print(\"P(X>x) = \", float(density_pr)/float(N))\n",
    "\n",
    "print(\"Probability that the clustering coeff\")\n",
    "print(\"P(X>x) = \", float(cluster_coeff_pr)/float(N))"
   ]
  },
  {
   "cell_type": "markdown",
   "metadata": {},
   "source": [
    "Plots Distributions of Numbers of CCs, Largest CC for a given K"
   ]
  },
  {
   "cell_type": "code",
   "execution_count": 34,
   "metadata": {},
   "outputs": [
    {
     "data": {
      "image/png": "[encoded data removed]",
      "text/plain": [
       "<matplotlib.figure.Figure at 0x15124f7f10>"
      ]
     },
     "metadata": {},
     "output_type": "display_data"
    },
    {
     "data": {
      "image/png": "[encoded data removed]",
      "text/plain": [
       "<matplotlib.figure.Figure at 0x1511c9f690>"
      ]
     },
     "metadata": {},
     "output_type": "display_data"
    },
    {
     "data": {
      "image/png": "[encoded data removed]",
      "text/plain": [
       "<matplotlib.figure.Figure at 0x105ab4d90>"
      ]
     },
     "metadata": {},
     "output_type": "display_data"
    }
   ],
   "source": [
    "plt.hist(num_ccs)\n",
    "plt.xlabel('Number of Connected Components')\n",
    "plt.show()\n",
    "plt.hist(largest_ccs)\n",
    "plt.xlabel('Largest Connected Component')\n",
    "plt.show()\n",
    "plt.hist(num_ccs_excluding_ones)\n",
    "plt.xlabel('Number of Connected Components Excluding Single Nodes')\n",
    "plt.show()"
   ]
  },
  {
   "cell_type": "markdown",
   "metadata": {},
   "source": [
    "Returns a List of Genes of Significance for a Given File"
   ]
  },
  {
   "cell_type": "code",
   "execution_count": 3,
   "metadata": {},
   "outputs": [],
   "source": [
    "def readGwasAssociationFile(disease):\n",
    "\tgenes = []\n",
    "\tinsignificants = []\n",
    "\tg_p = {}\n",
    "\ttotal_genes = []\n",
    "\t#f = open(os.path.join('./Diseases', 'ulcerative_colitis.tsv'))\n",
    "\tf = open(os.path.join('./Diseases', disease))\n",
    "\n",
    "\tfirst_line = 0\n",
    "\tnum_genes = 0;\n",
    "\tnum_assoc = 0;\n",
    "\tfor line in f:\n",
    "\t\tif (first_line == 1):\n",
    "\t\t\tnum_assoc += 1;\n",
    "\t\t\tx = line.split('\\t')\n",
    "\t\t\tp_value = float(x[27])\n",
    "\t\t\tassociated_gene = x[14]\n",
    "\n",
    "\t\t\tif (disease == 'gwas_schizophrenia.tsv' or disease == 'gwas_Alzheimer.tsv'):\n",
    "\t\t\t\tif (p_value < 0.0000001):\n",
    "\t\t\t\t\tformatted_gene = associated_gene.replace('\"', '').replace(',', '').replace(';', '').replace('-', '')\n",
    "\t\t\t\t\tmapped_genes = formatted_gene.split(' ')\n",
    "\t\t\t\t\tfor gene in mapped_genes:\n",
    "\t\t\t\t\t\tif gene:\n",
    "\t\t\t\t\t\t\tif gene not in genes: \n",
    "\t\t\t\t\t\t\t\tgenes.append(gene)\n",
    "\t\t\t\t\t\t\t\ttotal_genes.append(gene)\n",
    "\t\t\t\t\t\t\t\tnum_genes += 1\n",
    "\t\t\t\t\t\t\t\tg_p[gene] = p_value\n",
    "\t\t\telif (disease == 'gwas_Dementia.tsv'):\n",
    "\t\t\t\tif (p_value < 0.00000005):\n",
    "\t\t\t\t\tformatted_gene = associated_gene.replace('\"', '').replace(',', '').replace(';', '').replace('-', '')\n",
    "\t\t\t\t\tmapped_genes = formatted_gene.split(' ')\n",
    "\t\t\t\t\tfor gene in mapped_genes:\n",
    "\t\t\t\t\t\tif gene: \n",
    "\t\t\t\t\t\t\tif gene not in genes: \n",
    "\t\t\t\t\t\t\t\tgenes.append(gene)\n",
    "\t\t\t\t\t\t\t\ttotal_genes.append(gene)\n",
    "\t\t\t\t\t\t\t\tnum_genes += 1\n",
    "\t\t\t\t\t\t\t\tg_p[gene] = p_value\n",
    "\t\t\telse:\n",
    "\t\t\t\tif (p_value < 0.000005):\n",
    "\t\t\t\t\tformatted_gene = associated_gene.replace('\"', '').replace(',', '').replace(';', '').replace('-', '')\n",
    "\t\t\t\t\tmapped_genes = formatted_gene.split(' ')\n",
    "\t\t\t\t\tfor gene in mapped_genes:\n",
    "\t\t\t\t\t\tif gene: \n",
    "\t\t\t\t\t\t\tif gene not in genes:\n",
    "\t\t\t\t\t\t\t\tgenes.append(gene)\n",
    "\t\t\t\t\t\t\t\ttotal_genes.append(gene)\n",
    "\t\t\t\t\t\t\t\tnum_genes += 1\n",
    "\t\t\t\t\t\t\t\tg_p[gene] = p_value\n",
    "\t\t\t\telse:\n",
    "\t\t\t\t\tformatted_gene = associated_gene.replace('\"', '').replace(',', '').replace(';', '').replace('-', '')\n",
    "\t\t\t\t\tmapped_genes = formatted_gene.split(' ')\n",
    "\t\t\t\t\tfor gene in mapped_genes:\n",
    "\t\t\t\t\t\tif gene: \n",
    "\t\t\t\t\t\t\tif gene not in total_genes:\n",
    "\t\t\t\t\t\t\t\ttotal_genes.append(gene)\n",
    "\t\t\t\t\t\t\t\tg_p[gene] = p_value\n",
    "                    \n",
    "\n",
    "\t\tfirst_line = 1\n",
    "\t\n",
    "\t#print(\"Number of mapped genes: \", num_genes, \"\\nNumber of associations: \", num_assoc)\n",
    "\treturn genes, g_p, total_genes\n"
   ]
  },
  {
   "cell_type": "code",
   "execution_count": 5,
   "metadata": {},
   "outputs": [],
   "source": [
    "def add_nodes_from(file):\n",
    "    fx = open(file)\n",
    "    genes = fx.read().splitlines()\n",
    "    return genes"
   ]
  },
  {
   "cell_type": "code",
   "execution_count": 7,
   "metadata": {},
   "outputs": [],
   "source": [
    "def readCancerGenes():\n",
    "    fx = open(os.path.join('./Diseases', 'vogelstein.txt'))\n",
    "    genes = fx.read().splitlines()\n",
    "    return genes"
   ]
  },
  {
   "cell_type": "markdown",
   "metadata": {},
   "source": [
    "Functions for Shortest Path and Components"
   ]
  },
  {
   "cell_type": "code",
   "execution_count": 9,
   "metadata": {},
   "outputs": [],
   "source": [
    "# Calculate the shortest path between component A and B\n",
    "def shortestPath(G, A, B):\n",
    "    shortest_length = sys.maxint\n",
    "    paths = []\n",
    "\n",
    "    for source in A.nodes():\n",
    "        for target in B.nodes():\n",
    "            path = nx.shortest_path(G, source=source, target=target)\n",
    "            l = len(path)\n",
    "            paths.append(l)\n",
    "\n",
    "            if l < shortest_length:\n",
    "                shortest_length = l\n",
    "                shortest_path = path\n",
    "\n",
    "    #print nx.average_clustering(A)\n",
    "    #print nx.average_clustering(B)\n",
    "    return shortest_length, shortest_path\n",
    "\n",
    "def all_shortest_paths(G, A, B, genes):\n",
    "    new_nodes = []\n",
    "    for source in A.nodes():\n",
    "        for target in B.nodes():\n",
    "            # List of all lists of shortest paths from node A to node B\n",
    "            gen = nx.all_shortest_paths(G, source=source, target=target)\n",
    "            for path in gen:\n",
    "                #this is a list\n",
    "                for new_gene in path:\n",
    "                    # if it is not already in the list of genes\n",
    "                    if new_gene not in genes:\n",
    "                        new_nodes.append(new_gene)\n",
    "    return new_nodes\n",
    "\n",
    "#Number of Paths\n",
    "def numPaths(G, A, B):\n",
    "    path_lengths = []\n",
    "\n",
    "    for source in A.nodes():\n",
    "        for target in B.nodes():\n",
    "            generator = nx.all_simple_paths(G, source=source, target=target)\n",
    "            l = len(list(generator))\n",
    "            path_lengths.append(l)\n",
    "    return path_lengths\n",
    "\n",
    "# Get two largest components for a given graph\n",
    "def get_components(G, subgraph):\n",
    "    Gcc=sorted(nx.connected_component_subgraphs(subgraph), key = len, reverse=True)\n",
    "    G0 = Gcc[0]\n",
    "    G1 = Gcc[1]\n",
    "\n",
    "    #show_components(G, G0, G1)\n",
    "    return G0, G1\n",
    "\n",
    "# Check if a node is in the GWAS file for a given diseases\n",
    "def check(node, disease):\n",
    "    f = open(os.path.join('./Diseases', disease))\n",
    "\n",
    "    first_line = 0\n",
    "\n",
    "    for line in f:\n",
    "        if (first_line == 1):\n",
    "            x = line.split('\\t')\n",
    "            associated_gene = x[14]\n",
    "\n",
    "            formatted_gene = associated_gene.replace('\"', '').replace(',', '').replace(';', '').replace('-', '')\n",
    "            mapped_genes = formatted_gene.split(' ')\n",
    "            for gene in mapped_genes:\n",
    "                if gene == node:\n",
    "                    p_value = Decimal(x[27])\n",
    "                    print node, \" : \", p_value\n",
    "                    return\n",
    "\n",
    "        first_line = 1\n",
    "    print \"node not found: \", node\n",
    "\n",
    "def show_components(G, first, second):\n",
    "    #WORK IN PROGRESS\n",
    "    first_nodes = list(first.nodes)\n",
    "    second_nodes = list(second.nodes)\n",
    "    plt.show()\n"
   ]
  },
  {
   "cell_type": "markdown",
   "metadata": {},
   "source": [
    "Get Components, Shortest Path between them, Diameters of each component"
   ]
  },
  {
   "cell_type": "code",
   "execution_count": 51,
   "metadata": {},
   "outputs": [
    {
     "name": "stdout",
     "output_type": "stream",
     "text": [
      ".DS_Store\n",
      "gwas_Alzheimer.tsv\n",
      "Avg. SP 1:  3.875\n",
      "Avg. SP 2:  1.66666666667\n",
      "gwas_autism.tsv\n",
      "Avg. SP 1:  3.29047619048\n",
      "Avg. SP 2:  1.6\n",
      "gwas_bipolar_disorder.tsv\n",
      "Avg. SP 1:  3.30147058824\n",
      "Avg. SP 2:  1.83333333333\n",
      "gwas_breast_cancer.tsv\n",
      "Avg. SP 1:  3.75483870968\n",
      "Avg. SP 2:  1.0\n",
      "gwas_crohn.tsv\n",
      "Avg. SP 1:  3.02184376157\n",
      "Avg. SP 2:  1.0\n",
      "gwas_Dementia.tsv\n",
      "Avg. SP 1:  5.06072874494\n",
      "Avg. SP 2:  2.30555555556\n",
      "gwas_depression.tsv\n",
      "Avg. SP 1:  4.25042016807\n",
      "Avg. SP 2:  2.54945054945\n",
      "gwas_major_depressive_disorder.tsv\n",
      "Avg. SP 1:  2.30909090909\n",
      "Avg. SP 2:  1.33333333333\n",
      "gwas_multiple_sclerosis.tsv\n",
      "Avg. SP 1:  2.37362637363\n",
      "Avg. SP 2:  1.66666666667\n",
      "gwas_schizophrenia.tsv\n",
      "Avg. SP 1:  2.53846153846\n",
      "Avg. SP 2:  2.22222222222\n",
      "gwas_waist_hip.tsv\n",
      "Avg. SP 1:  2.17857142857\n",
      "Avg. SP 2:  1.0\n",
      "ulcerative_colitis.tsv\n",
      "Avg. SP 1:  3.20042305658\n",
      "Avg. SP 2:  1.0\n",
      "vogelstein.txt\n"
     ]
    },
    {
     "ename": "NameError",
     "evalue": "name 'fx' is not defined",
     "output_type": "error",
     "traceback": [
      "\u001b[0;31m---------------------------------------------------------------------------\u001b[0m",
      "\u001b[0;31mNameError\u001b[0m                                 Traceback (most recent call last)",
      "\u001b[0;32m<ipython-input-51-e0e4db0f5b23>\u001b[0m in \u001b[0;36m<module>\u001b[0;34m()\u001b[0m\n\u001b[1;32m      4\u001b[0m     \u001b[0;32mprint\u001b[0m\u001b[0;34m(\u001b[0m\u001b[0mfile\u001b[0m\u001b[0;34m)\u001b[0m\u001b[0;34m\u001b[0m\u001b[0m\n\u001b[1;32m      5\u001b[0m     \u001b[0;32mif\u001b[0m \u001b[0;34m(\u001b[0m\u001b[0mfile\u001b[0m \u001b[0;34m==\u001b[0m \u001b[0;34m'vogelstein.txt'\u001b[0m\u001b[0;34m)\u001b[0m\u001b[0;34m:\u001b[0m\u001b[0;34m\u001b[0m\u001b[0m\n\u001b[0;32m----> 6\u001b[0;31m         \u001b[0mgenes\u001b[0m \u001b[0;34m=\u001b[0m \u001b[0mfx\u001b[0m\u001b[0;34m.\u001b[0m\u001b[0mread\u001b[0m\u001b[0;34m(\u001b[0m\u001b[0;34m)\u001b[0m\u001b[0;34m.\u001b[0m\u001b[0msplitlines\u001b[0m\u001b[0;34m(\u001b[0m\u001b[0;34m)\u001b[0m\u001b[0;34m\u001b[0m\u001b[0m\n\u001b[0m\u001b[1;32m      7\u001b[0m         \u001b[0mH\u001b[0m \u001b[0;34m=\u001b[0m \u001b[0mG\u001b[0m\u001b[0;34m.\u001b[0m\u001b[0msubgraph\u001b[0m\u001b[0;34m(\u001b[0m\u001b[0mgenes\u001b[0m\u001b[0;34m)\u001b[0m\u001b[0;34m\u001b[0m\u001b[0m\n\u001b[1;32m      8\u001b[0m         \u001b[0mfirst\u001b[0m\u001b[0;34m,\u001b[0m \u001b[0msecond\u001b[0m \u001b[0;34m=\u001b[0m \u001b[0mget_components\u001b[0m\u001b[0;34m(\u001b[0m\u001b[0mG\u001b[0m\u001b[0;34m,\u001b[0m \u001b[0mH\u001b[0m\u001b[0;34m)\u001b[0m\u001b[0;34m\u001b[0m\u001b[0m\n",
      "\u001b[0;31mNameError\u001b[0m: name 'fx' is not defined"
     ]
    }
   ],
   "source": [
    "#file = 'gwas_waist_hip.tsv'\n",
    "#genes, g_p = readGwasAssociationFile(file)\n",
    "for file in os.listdir('./Diseases'):\n",
    "    print(file)\n",
    "    if (file == 'vogelstein.txt'):\n",
    "        genes = fx.read().splitlines()\n",
    "        H = G.subgraph(genes)\n",
    "        first, second = get_components(G, H)\n",
    "        print \"Avg. SP 1: \", nx.average_shortest_path_length(first)\n",
    "        print \"Avg. SP 2: \", nx.average_shortest_path_length(second)\n",
    "    elif (file != '.DS_Store'):\n",
    "        genes, g_p = readGwasAssociationFile(file)\n",
    "        H = G.subgraph(genes)\n",
    "        first, second = get_components(G, H)\n",
    "        print \"Avg. SP 1: \", nx.average_shortest_path_length(first)\n",
    "        print \"Avg. SP 2: \", nx.average_shortest_path_length(second)\n",
    "    #length, path = shortestPath(G, first, second)\n",
    "    #print length\n",
    "    #print path\n"
   ]
  },
  {
   "cell_type": "code",
   "execution_count": 66,
   "metadata": {},
   "outputs": [
    {
     "name": "stdout",
     "output_type": "stream",
     "text": [
      ".DS_Store\n",
      "gwas_Alzheimer.tsv\n",
      "CC 1:  0.520833333333 | CC 2:  0.0\n",
      "gwas_autism.tsv\n",
      "CC 1:  0.202267573696 | CC 2:  0.333333333333\n",
      "gwas_bipolar_disorder.tsv\n",
      "CC 1:  0.0352941176471 | CC 2:  0.474236874237\n",
      "gwas_breast_cancer.tsv\n",
      "CC 1:  0.118279569892 | CC 2:  1.0\n",
      "gwas_crohn.tsv\n",
      "CC 1:  0.319114060871 | CC 2:  0.0\n",
      "gwas_Dementia.tsv\n",
      "CC 1:  0.262393162393 | CC 2:  0.311111111111\n",
      "gwas_depression.tsv\n",
      "CC 1:  0.179954648526 | CC 2:  0.0\n",
      "gwas_major_depressive_disorder.tsv\n",
      "CC 1:  0.490909090909 | CC 2:  0.0\n",
      "gwas_multiple_sclerosis.tsv\n",
      "CC 1:  0.233333333333 | CC 2:  0.0\n",
      "gwas_schizophrenia.tsv\n",
      "CC 1:  0.15641025641 | CC 2:  0.4\n",
      "gwas_waist_hip.tsv\n",
      "CC 1:  0.270833333333 | CC 2:  0.0\n",
      "ulcerative_colitis.tsv\n",
      "CC 1:  0.266709244793 | CC 2:  0.0\n",
      "vogelstein.txt\n",
      "CC 1:  0.446324843459 | CC 2:  0.0\n"
     ]
    }
   ],
   "source": [
    "for file in os.listdir('./Diseases'):\n",
    "    print(file)\n",
    "    if (file == 'vogelstein.txt'):\n",
    "        fx = open(os.path.join('./Diseases', file))\n",
    "        genes = fx.read().splitlines()\n",
    "        H = G.subgraph(genes)\n",
    "        first, second = get_components(G, H)\n",
    "        #length, path = shortestPath(G, first, second)\n",
    "        #print \"length: \", str(length), \"| path: \", str(path), \"| degree: \", G.degree(path[1])\n",
    "        #print \"1st: \", str(nx.diameter(first)), \"| 2nd: \", str(nx.diameter(second))\n",
    "        print \"CC 1: \", str(nx.average_clustering(first)), \"| CC 2: \", str(nx.average_clustering(second))\n",
    "    elif (file != '.DS_Store'):\n",
    "        genes, g_p = readGwasAssociationFile(file)\n",
    "        H = G.subgraph(genes)\n",
    "        first, second = get_components(G, H)\n",
    "        #length, path = shortestPath(G, first, second)\n",
    "        #print \"length: \", str(length), \"| path: \", str(path), \"| degree: \", G.degree(path[1])\n",
    "        #print \"1st: \", str(nx.diameter(first)), \"| 2nd: \", str(nx.diameter(second))\n",
    "        print \"CC 1: \", str(nx.average_clustering(first)), \"| CC 2: \", str(nx.average_clustering(second))\n",
    "        "
   ]
  },
  {
   "cell_type": "markdown",
   "metadata": {},
   "source": [
    "Generate a list of all the the sizes of largest/second largest components"
   ]
  },
  {
   "cell_type": "code",
   "execution_count": 34,
   "metadata": {},
   "outputs": [
    {
     "name": "stdout",
     "output_type": "stream",
     "text": [
      "5 [97, 112, 153, 123, 158, 191, 190, 109, 91, 157, 114, 127]\n",
      "Avg. CCs 1:  7.069\n",
      "Pr CCs 1:  0.219\n",
      "7 [97, 112, 153, 123, 158, 191, 190, 109, 91, 157, 114, 127]\n",
      "Avg. CCs 1:  8.572\n",
      "Pr CCs 1:  0.33\n",
      "11 [97, 112, 153, 123, 158, 191, 190, 109, 91, 157, 114, 127]\n",
      "Avg. CCs 1:  11.561\n",
      "Pr CCs 1:  0.499\n",
      "5 [97, 112, 153, 123, 158, 191, 190, 109, 91, 157, 114, 127]\n",
      "Avg. CCs 1:  9.118\n",
      "Pr CCs 1:  0.063\n",
      "4 [97, 112, 153, 123, 158, 191, 190, 109, 91, 157, 114, 127]\n",
      "Avg. CCs 1:  11.935\n",
      "Pr CCs 1:  0.003\n",
      "10 [97, 112, 153, 123, 158, 191, 190, 109, 91, 157, 114, 127]\n",
      "Avg. CCs 1:  13.71\n",
      "Pr CCs 1:  0.165\n",
      "14 [97, 112, 153, 123, 158, 191, 190, 109, 91, 157, 114, 127]\n",
      "Avg. CCs 1:  13.951\n",
      "Pr CCs 1:  0.551\n",
      "6 [97, 112, 153, 123, 158, 191, 190, 109, 91, 157, 114, 127]\n",
      "Avg. CCs 1:  8.124\n",
      "Pr CCs 1:  0.22\n",
      "4 [97, 112, 153, 123, 158, 191, 190, 109, 91, 157, 114, 127]\n",
      "Avg. CCs 1:  6.595\n",
      "Pr CCs 1:  0.132\n",
      "11 [97, 112, 153, 123, 158, 191, 190, 109, 91, 157, 114, 127]\n",
      "Avg. CCs 1:  11.906\n",
      "Pr CCs 1:  0.431\n",
      "2 [97, 112, 153, 123, 158, 191, 190, 109, 91, 157, 114, 127]\n",
      "Avg. CCs 1:  8.64\n",
      "Pr CCs 1:  0\n"
     ]
    }
   ],
   "source": [
    "N = 1000\n",
    "# we want a small number of CCs, so we want to know the probability of getting a smaller one\n",
    "pr = 0\n",
    "ks = [97,112,153,123,158,191,190,109,91,157,114,127]\n",
    "nums = [5, 7, 11, 5, 4, 10, 14, 6, 4, 11,2,2]\n",
    "dis = [AD,ASD,BP,BC,CD,DEM,DEP,MDD,MS,]\n",
    "for l in range(0,11):\n",
    "    k = ks[l]\n",
    "    num = nums[l]\n",
    "    avg = 0\n",
    "    pr = 0\n",
    "    for i in range(0,N):\n",
    "        genes = random.sample(nodes_all, k)\n",
    "        H = G.subgraph(genes)\n",
    "        nodes = nx.number_of_nodes(H)\n",
    "        cc = 0\n",
    "        Gcc = nx.connected_component_subgraphs(H)\n",
    "    \n",
    "        for component in Gcc:\n",
    "            if (nx.number_of_nodes(component) != 1):\n",
    "                cc += 1\n",
    "        avg += cc\n",
    "        \n",
    "        if cc <= num:\n",
    "            pr += 1\n",
    "\n",
    "    print num, ks\n",
    "    print \"Avg. CCs 1: \", Decimal(avg)/N\n",
    "    print \"Pr CCs 1: \", Decimal(pr)/N   "
   ]
  },
  {
   "cell_type": "code",
   "execution_count": 56,
   "metadata": {
    "scrolled": true
   },
   "outputs": [
    {
     "data": {
      "image/png": "[encoded data removed]",
      "text/plain": [
       "<matplotlib.figure.Figure at 0x151ab79950>"
      ]
     },
     "metadata": {},
     "output_type": "display_data"
    },
    {
     "data": {
      "image/png": "[encoded data removed]",
      "text/plain": [
       "<matplotlib.figure.Figure at 0x151ab79210>"
      ]
     },
     "metadata": {},
     "output_type": "display_data"
    }
   ],
   "source": [
    "plt.hist(firsts)\n",
    "plt.xlabel('Distribution of Largest Components')\n",
    "plt.show()\n",
    "plt.hist(seconds)\n",
    "plt.xlabel('Distibution of Second Largest Components')\n",
    "plt.show()"
   ]
  },
  {
   "cell_type": "markdown",
   "metadata": {},
   "source": [
    "Print Data on First and Second Components (SP, Diameters, CC)"
   ]
  },
  {
   "cell_type": "code",
   "execution_count": 81,
   "metadata": {},
   "outputs": [
    {
     "name": "stdout",
     "output_type": "stream",
     "text": [
      "('Average Shortest Path over 1000 trials: ', 3.889)\n",
      "('Average Degree is SP connector over 1000 trials: ', 336.792)\n",
      "('Average Diameter of Component 1: ', 6.296)\n",
      "('P(X>x) Component 1: 12 ', 0.01)\n",
      "('P(X>x) Component 1: 7 ', 0.319)\n",
      "('P(X>x) Component 1: 5 ', 0.608)\n",
      "('Average Diameter of Component 2: ', 2.987)\n",
      "('P(X>x) Component 2: ', 0.059)\n",
      "('Average CC of Component 1: ', 0.25742641876626327)\n",
      "('Average CC of Component 2: ', 0.43553517379423773)\n"
     ]
    }
   ],
   "source": [
    "degrees = []\n",
    "for i in range(0,N):\n",
    "    genes = random.sample(nodes_all, k)\n",
    "    shortest_length = sys.maxint\n",
    "    \n",
    "    H = G.subgraph(genes)\n",
    "    nodes = nx.number_of_nodes(H)\n",
    "\n",
    "    if (nodes != 0):\n",
    "        #Get All Components\n",
    "        Gcc = sorted(nx.connected_component_subgraphs(H), key = len, reverse=True)\n",
    "        first = Gcc[0]\n",
    "        second = Gcc[1]\n",
    "        G0 = nx.number_of_nodes(first)\n",
    "        G1 = nx.number_of_nodes(second)\n",
    "        \n",
    "        #Diameter\n",
    "        c1_diam.append(nx.diameter(first))\n",
    "        if nx.diameter(first) > 12:\n",
    "            c1d += 1\n",
    "        if nx.diameter(second) > 5:\n",
    "            c2d += 1\n",
    "        if nx.diameter(first) > 7:\n",
    "            c1dd += 1\n",
    "        if nx.diameter(first) > 5:\n",
    "            c1ddd += 1\n",
    "   \n",
    "        c2_diam.append(nx.diameter(second))\n",
    "        #Clustering Coefficients\n",
    "        cc1.append(nx.average_clustering(first))\n",
    "        cc2.append(nx.average_clustering(second))\n",
    "\n",
    "        #Shortest Path between Components\n",
    "        for source in first.nodes():\n",
    "            for target in second.nodes():\n",
    "                path = nx.shortest_path(G, source=source, target=target)\n",
    "                l = len(path)\n",
    "                \n",
    "                if l < shortest_length:\n",
    "                    shortest_length = l\n",
    "        paths.append(l) #add the shortest path to a running list of 1000 shortest paths\n",
    "        degrees.append(G.degree(path[1]))\n",
    "        \n",
    "print(\"Average Shortest Path over 1000 trials: \", sum(paths)/1000.0)\n",
    "print(\"Average Degree is SP connector over 1000 trials: \", sum(degrees)/1000.0)\n",
    "\n",
    "print(\"Average Diameter of Component 1: \", sum(c1_diam)/1000.0)\n",
    "print(\"P(X>x) Component 1: 12 \", float(c1d)/1000.0)\n",
    "print(\"P(X>x) Component 1: 7 \", float(c1dd)/1000.0)\n",
    "print(\"P(X>x) Component 1: 5 \", float(c1ddd)/1000.0)\n",
    "\n",
    "print(\"Average Diameter of Component 2: \", sum(c2_diam)/1000.0)\n",
    "print(\"P(X>x) Component 2: \", float(c2d)/1000.0)\n",
    "\n",
    "print(\"Average CC of Component 1: \", sum(cc1)/1000.0)\n",
    "print(\"Average CC of Component 2: \", sum(cc2)/1000.0)"
   ]
  },
  {
   "cell_type": "code",
   "execution_count": 85,
   "metadata": {},
   "outputs": [
    {
     "data": {
      "image/png": "[encoded data removed]",
      "text/plain": [
       "<matplotlib.figure.Figure at 0x1a133f0510>"
      ]
     },
     "metadata": {},
     "output_type": "display_data"
    }
   ],
   "source": [
    "plt.hist(paths, bins=[3,3.5,4,4.5,5,5.5,6] )\n",
    "#bins=np.arange(3, 6, 0.5)\n",
    "plt.xlabel('Path Length (nodes)')\n",
    "plt.ylabel('Number of Paths')\n",
    "plt.show()"
   ]
  },
  {
   "cell_type": "markdown",
   "metadata": {},
   "source": [
    "Display the Two Components"
   ]
  },
  {
   "cell_type": "code",
   "execution_count": 34,
   "metadata": {},
   "outputs": [
    {
     "data": {
      "image/png": "[encoded data removed]",
      "text/plain": [
       "<matplotlib.figure.Figure at 0x115430110>"
      ]
     },
     "metadata": {},
     "output_type": "display_data"
    }
   ],
   "source": [
    "file = 'gwas_depression.tsv'\n",
    "genes, g_p = readGwasAssociationFile(file)\n",
    "H = G.subgraph(genes)\n",
    "Gcc=sorted(nx.connected_component_subgraphs(H), key = len, reverse=True)\n",
    "G0 = Gcc[0]\n",
    "G1 = Gcc[1]\n",
    "\n",
    "F = nx.compose(G0, G1)\n",
    "nodes = F.nodes()\n",
    "pos=nx.spring_layout(F)\n",
    "\n",
    "for n in nodes:\n",
    "    if g_p[n] < 0.000000001:\n",
    "        sm.append(n)\n",
    "    elif g_p[n] < 0.000000005:\n",
    "        sm_1.append(n)\n",
    "    elif g_p[n] < 0.00000001:\n",
    "        mid.append(n)\n",
    "    elif g_p[n] < 0.00000005:\n",
    "        lg_1.append(n)\n",
    "    elif g_p[n] < 0.0000001:\n",
    "        lg_2.append(n)\n",
    "    else:\n",
    "        lg_3.append(n)\n",
    "\n",
    "b0 = mpatches.Patch(color='#f6fefd', label='< 10e-9')\n",
    "b1 = mpatches.Patch(color='#a6faf1', label='< 5 x 10e-9')\n",
    "b2 = mpatches.Patch(color='#6beaf9', label='< 10e-8')\n",
    "b3 = mpatches.Patch(color='#3ca3e8', label='< 5 x 10e-8')\n",
    "b4 = mpatches.Patch(color='#0E5FF6', label='< 10e-7')\n",
    "b5 = mpatches.Patch(color='#033579', label='> 10e-7')\n",
    "l = [b0, b1, b2, b3, b4, b5]\n",
    "fig, ax = plt.subplots()\n",
    "ax.legend(l, ['< 10e-9', '< 5 x 10e-9', '< 10e-8', '< 5 x 10e-8', \"< 10e-7\", \"> 10e-7\"])\n",
    "#plt.legend()\n",
    "\n",
    "nx.draw_networkx_nodes(F,pos,nodelist=sm,node_color='#f6fefd',node_size=300,alpha=0.9)\n",
    "nx.draw_networkx_nodes(F,pos,nodelist=sm_1,node_color='#a6faf1',node_size=300,alpha=0.9)\n",
    "nx.draw_networkx_nodes(F,pos,nodelist=mid,node_color='#6beaf9',node_size=300,alpha=0.9)\n",
    "nx.draw_networkx_nodes(F,pos,nodelist=lg_1,node_color='#3ca3e8',node_size=300,alpha=0.9)\n",
    "nx.draw_networkx_nodes(F,pos,nodelist=lg_2,node_color='#0E5FF6',node_size=300,alpha=0.9)\n",
    "nx.draw_networkx_nodes(F,pos,nodelist=lg_3,node_color='#033579',node_size=300,alpha=0.9)\n",
    "\n",
    "nx.draw_networkx_edges(F,pos=pos)\n",
    "#nx.draw_networkx_labels(F, pos=pos)\n",
    "\n",
    "plt.show()"
   ]
  },
  {
   "cell_type": "markdown",
   "metadata": {},
   "source": [
    "Print P-Values for the First Two Components"
   ]
  },
  {
   "cell_type": "code",
   "execution_count": 27,
   "metadata": {
    "scrolled": true
   },
   "outputs": [
    {
     "name": "stdout",
     "output_type": "stream",
     "text": [
      "First Component: \n",
      "SP8 : 5E-7\n",
      "ZNRD1 : 8E-9\n",
      "RARB : 0.000001\n",
      "APOB : 0.000001\n",
      "KMT2D : 6E-8\n",
      "NOTCH4 : 0.000002\n",
      "RXRG : 4E-7\n",
      "KAT2B : 0.000005\n",
      "TCF7L2 : 3E-7\n",
      "MKL1 : 0.000004\n",
      "TLE4 : 0.000001\n",
      "SORBS1 : 0.000003\n",
      "COLEC12 : 0.000004\n",
      "NUMB : 7E-7\n",
      "GRIP1 : 0.000001\n",
      "ZMIZ1 : 0.000005\n",
      "FADS2 : 1E-10\n",
      "\n",
      "Second Component:\n",
      "KCNMB2 : 0.000001\n",
      "NCAN : 2E-9\n",
      "ADCY2 : 2E-8\n",
      "CACNB3 : 0.000001\n",
      "CACNB2 : 4E-8\n",
      "CACNA1C : 2E-7\n",
      "PPP2R2B : 0.000002\n",
      "CAMK2D : 0.000004\n",
      "COL4A2 : 0.000004\n",
      "CACNA2D3 : 0.000004\n",
      "CACNA2D1 : 0.000005\n",
      "CACNG4 : 6E-7\n",
      "NCAM1 : 0.000002\n"
     ]
    }
   ],
   "source": [
    "# Make sure to refresh top cell\n",
    "print \"First Component: \"\n",
    "first, second = get_components(G, H)\n",
    "for gene in first:\n",
    "    print gene + \" : \" + str(g_p[gene])\n",
    "print \"\\nSecond Component:\"\n",
    "for gene in second:\n",
    "    print gene + \" : \" + str(g_p[gene])"
   ]
  },
  {
   "cell_type": "code",
   "execution_count": null,
   "metadata": {},
   "outputs": [],
   "source": [
    "first, second = get_components(G, H)\n",
    "pathz = numPaths(G, first, second)\n",
    "plt.hist(pathz)\n",
    "plt.xlabel('Distribution of Path Lengths')\n",
    "plt.show()"
   ]
  },
  {
   "cell_type": "markdown",
   "metadata": {},
   "source": [
    "Computes Distribution of Degrees of Nodes in First Two Components"
   ]
  },
  {
   "cell_type": "code",
   "execution_count": 55,
   "metadata": {
    "scrolled": false
   },
   "outputs": [
    {
     "data": {
      "image/png": "[encoded data removed]",
      "text/plain": [
       "<matplotlib.figure.Figure at 0x10721ca50>"
      ]
     },
     "metadata": {},
     "output_type": "display_data"
    },
    {
     "data": {
      "image/png": "[encoded data removed]",
      "text/plain": [
       "<matplotlib.figure.Figure at 0x108f8d410>"
      ]
     },
     "metadata": {},
     "output_type": "display_data"
    }
   ],
   "source": [
    "file = 'gwas_depression.tsv'\n",
    "genes, g_p = readGwasAssociationFile(file)\n",
    "H = G.subgraph(genes)\n",
    "degrees = []\n",
    "first, second = get_components(G, H)\n",
    "for node in first:\n",
    "    degrees.append(G.degree(node))\n",
    "for node in second:\n",
    "    degrees.append(G.degree(node))\n",
    "\n",
    "plt.hist(degrees)\n",
    "plt.show()\n",
    "\n",
    "file = 'gwas_bipolar_disorder.tsv'\n",
    "genes, g_p = readGwasAssociationFile(file)\n",
    "H = G.subgraph(genes)\n",
    "degrees = []\n",
    "first, second = get_components(G, H)\n",
    "for node in first:\n",
    "    degrees.append(G.degree(node))\n",
    "for node in second:\n",
    "    degrees.append(G.degree(node))\n",
    "\n",
    "plt.hist(degrees)\n",
    "plt.show()"
   ]
  },
  {
   "cell_type": "raw",
   "metadata": {},
   "source": [
    "Combined Depression, Bipolar Disorder, Schizophrenia Analysis`"
   ]
  },
  {
   "cell_type": "code",
   "execution_count": 101,
   "metadata": {},
   "outputs": [
    {
     "name": "stdout",
     "output_type": "stream",
     "text": [
      "Average\n",
      "('P(X>x) = ', 0.043)\n"
     ]
    }
   ],
   "source": [
    "nodes_all = G.nodes()\n",
    "k_1 = 153 #bipolar\n",
    "k_2 = 190 #depression\n",
    "k_3 = 157 #schizo\n",
    "grp_all = grp_12 = grp_13 = grp_23 = grp_1 = grp_2 = grp_3 = alls = []\n",
    "gt_all = gt_12 = gt_13 = gt_23 = gt_1 = gt_2 = gt_3 = pr_largest_component = 0\n",
    "avg = 0\n",
    "\n",
    "for i in range(0,N):\n",
    "    curr = 0\n",
    "    group_1 = random.sample(nodes_all, k_1)\n",
    "    group_2 = random.sample(nodes_all, k_2)\n",
    "    group_3 = random.sample(nodes_all, k_3)\n",
    "    genes = group_1 + group_2 + group_3\n",
    "    \n",
    "    h1 = G.subgraph(group_1)\n",
    "    h2 = G.subgraph(group_2)\n",
    "    h3 = G.subgraph(group_3)\n",
    "    # Take subgraph of these combined graphs\n",
    "    H_1 = nx.compose(h1, h2)\n",
    "    F = nx.compose(H_1,h3)\n",
    "    # Get first two components\n",
    "    #Gcc=sorted(nx.connected_component_subgraphs(H), key = len, reverse=True)\n",
    "    #G0 = Gcc[0]\n",
    "    #G1 = Gcc[1]\n",
    "    \n",
    "    # Graph of only the first two largest components\n",
    "    #F = nx.compose(G0, G1)\n",
    "    nodes = list(F.nodes())\n",
    "    grp_all = []\n",
    "    grp_12 = []\n",
    "    grp_13 = []\n",
    "    grp_23 = []\n",
    "    grp_1 = []\n",
    "    grp_2 = []\n",
    "    grp_3 = []\n",
    "    \n",
    "    #if nx.number_of_nodes(Gcc[0]) > 165:\n",
    "    #    pr_largest_component += 1\n",
    "    #        if ((n in group_1) and (n in group_2) and (n in group_3)):\n",
    "    #        grp_all.append(n)\n",
    "     #       elif (n in group_1 and n in group_3):\n",
    "     #       grp_13.append(n)\n",
    "      #  elif (n in group_2 and n in group_3):\n",
    "       #     grp_23.append(n)\n",
    "       # elif n in group_3:\n",
    "      #      grp_3.append(n)\n",
    "    for n in nodes:\n",
    "        if ((n in group_1) and (n in group_2) and (n in group_3)):\n",
    "            curr += 1\n",
    "    avg += curr\n",
    "   \n",
    " # for n in nodes:\n",
    " #        if (n in group_1 and n in group_2):\n",
    " #            curr += 1\n",
    " #            grp_12.append(n)\n",
    " #        elif n in group_1:\n",
    " #            grp_1.append(n)\n",
    " #        elif n in group_2:\n",
    " #            grp_2.append(n)\n",
    "   \n",
    " #   if len(grp_all) > 11:\n",
    " #       gt_all += 1\n",
    "  #  if len(grp_12) > 55:\n",
    "   #     gt_12 += 1\n",
    "   # if len(grp_13) > 2:\n",
    "#        gt_13 += 1\n",
    " #   if len(grp_23) > 1:\n",
    "  #      gt_23 += 1\n",
    "   # if len(grp_1) > 14:\n",
    "    #    gt_1 += 1\n",
    " #   if len(grp_2) > 33:\n",
    "  #      gt_2 += 1\n",
    "   # if len(grp_3) > 53:\n",
    "    #    gt_3 += 1\n",
    "    #alls.append(len(grp_all))\n",
    "        \n",
    "\n",
    "print(\"Average\")\n",
    "print(\"P(X>x) = \", float(avg)/float(N))\n",
    "\n",
    "#print(\"# Nodes in all 3 samples\")\n",
    "# print(\"P(X>x) = \", float(gt_all)/float(N))\n",
    "\n",
    "# print(\"# Nodes in group 1 and 2\")\n",
    "# print(\"P(X>x) = \", float(gt_12)/float(N))\n",
    "\n",
    "# print(\"# Nodes in group 1 and 3\")\n",
    "# print(\"P(X>x) = \", float(gt_13)/float(N))\n",
    "\n",
    "# print(\"# Nodes in group 2 and 3\")\n",
    "# print(\"P(X>x) = \", float(gt_23)/float(N))\n",
    "\n",
    "# print(\"# Nodes in group 1\")\n",
    "# print(\"P(X>x) = \", float(gt_1)/float(N))\n",
    "\n",
    "# print(\"# Nodes in group 2\")\n",
    "# print(\"P(X>x) = \", float(gt_2)/float(N))\n",
    "\n",
    "# print(\"# Nodes in group 3\")\n",
    "# print(\"P(X>x) = \", float(gt_3)/float(N))\n",
    "\n",
    "# plt.hist(alls)\n",
    "# plt.xlabel('Distribution of Number of Nodes in All 3 Sets')\n",
    "# plt.show()"
   ]
  },
  {
   "cell_type": "code",
   "execution_count": 45,
   "metadata": {},
   "outputs": [
    {
     "name": "stdout",
     "output_type": "stream",
     "text": [
      "# Nodes in group 1 and 2\n",
      "('P(X>x) = ', 0.0)\n",
      "# Nodes in group 1\n",
      "('P(X>x) = ', 1.0)\n",
      "# Nodes in group 2\n",
      "('P(X>x) = ', 1.0)\n"
     ]
    }
   ],
   "source": [
    "nodes_all = G.nodes()\n",
    "k_1 = 153 #bipolar\n",
    "k_2 = 190 #depression\n",
    "\n",
    "grp_12 = grp_1 = grp_2 = []\n",
    "gt_12 = gt_1 = gt_2 = 0\n",
    "\n",
    "for i in range(0,N):\n",
    "    group_1 = random.sample(nodes_all, k_1)\n",
    "    group_2 = random.sample(nodes_all, k_2)\n",
    "\n",
    "    h1 = G.subgraph(group_1)\n",
    "    h2 = G.subgraph(group_2)\n",
    "    genes = group_1 + group_2\n",
    "    # Take subgraph of these combined graphs\n",
    "    H = nx.compose(h1, h2)\n",
    "    nodes = list(H.nodes())\n",
    "    \n",
    "    grp_12 = []\n",
    "    grp_1 = []\n",
    "    grp_2 = []\n",
    "\n",
    "    for n in nodes:\n",
    "        if ((n in group_1) and (n in group_2)):\n",
    "            grp_12.append(n)\n",
    "        elif n in group_1 and n not in group_2:\n",
    "            grp_1.append(n)\n",
    "        elif n in group_2 and n not in group_1:\n",
    "            grp_2.append(n)\n",
    "\n",
    "    if len(grp_12) > 119:\n",
    "        gt_12 += 1\n",
    "    if len(grp_1) > 34:\n",
    "        gt_1 += 1\n",
    "    if len(grp_2) > 71:\n",
    "        gt_2 += 1        \n",
    "\n",
    "print(\"# Nodes in group 1 and 2\")\n",
    "print(\"P(X>x) = \", float(gt_12)/float(N))\n",
    "\n",
    "print(\"# Nodes in group 1\")\n",
    "print(\"P(X>x) = \", float(gt_1)/float(N))\n",
    "\n",
    "print(\"# Nodes in group 2\")\n",
    "print(\"P(X>x) = \", float(gt_2)/float(N))\n",
    "\n"
   ]
  },
  {
   "cell_type": "code",
   "execution_count": 41,
   "metadata": {},
   "outputs": [
    {
     "name": "stdout",
     "output_type": "stream",
     "text": [
      "803\n"
     ]
    },
    {
     "data": {
      "image/png": "[encoded data removed]",
      "text/plain": [
       "<matplotlib.figure.Figure at 0x150dcdbc90>"
      ]
     },
     "metadata": {},
     "output_type": "display_data"
    }
   ],
   "source": [
    "file = 'gwas_depression.tsv'\n",
    "genes, g_p, vals = readGwasAssociationFile(file)\n",
    "print len(vals)\n",
    "\n",
    "bins = [0.0,0.000005,0.00005, 0.0005, 0.005,0.05, 0.1,1]\n",
    "plt.hist(vals, bins=bins)\n",
    "plt.xscale('log')\n",
    "plt.xlabel('P-value')\n",
    "plt.ylabel('Number of Genes')\n",
    "plt.title('Distribution of P-value for Depression GWAS')\n",
    "plt.show()"
   ]
  },
  {
   "cell_type": "code",
   "execution_count": 42,
   "metadata": {},
   "outputs": [],
   "source": [
    "file = 'gwas_Alzheimer.tsv'\n",
    "g_alz, g_p, vals = readGwasAssociationFile(file)\n",
    "file = 'gwas_autism.tsv'\n",
    "g_asd, g_p, vals = readGwasAssociationFile(file)\n",
    "file = 'gwas_bipolar_disorder.tsv'\n",
    "g_bp, g_p, vals = readGwasAssociationFile(file)\n",
    "file = 'gwas_depression.tsv'\n",
    "g_mdd, g_p, vals = readGwasAssociationFile(file)\n",
    "file = 'gwas_dementia.tsv'\n",
    "g_dem, g_p, vals = readGwasAssociationFile(file)\n",
    "file = 'gwas_schizophrenia.tsv'\n",
    "g_scz, g_p, vals = readGwasAssociationFile(file)"
   ]
  },
  {
   "cell_type": "code",
   "execution_count": 67,
   "metadata": {},
   "outputs": [
    {
     "name": "stdout",
     "output_type": "stream",
     "text": [
      "783\n"
     ]
    }
   ],
   "source": [
    "genes = g_alz + g_asd + g_bp + g_mdd + g_dem + g_scz\n",
    "H = G.subgraph(genes)\n",
    "nodes = list(H.nodes())\n",
    "num_nodes = len(nodes)\n",
    "print num_nodes"
   ]
  },
  {
   "cell_type": "code",
   "execution_count": 97,
   "metadata": {},
   "outputs": [
    {
     "name": "stdout",
     "output_type": "stream",
     "text": [
      "[[0. 0. 0. 1. 0. 0.]\n",
      " [0. 0. 0. 1. 0. 0.]\n",
      " [0. 0. 0. 1. 0. 0.]\n",
      " ...\n",
      " [0. 0. 0. 1. 0. 0.]\n",
      " [0. 0. 1. 0. 1. 0.]\n",
      " [0. 0. 0. 1. 0. 0.]]\n"
     ]
    },
    {
     "data": {
      "image/png": "[encoded data removed]",
      "text/plain": [
       "<matplotlib.figure.Figure at 0x150cbe60d0>"
      ]
     },
     "metadata": {},
     "output_type": "display_data"
    }
   ],
   "source": [
    "matrix = np.zeros((num_nodes, 6)) #number of nodes = rows\n",
    "for i in range (0, num_nodes):\n",
    "    curr_node = nodes[i]\n",
    "    if curr_node in g_alz:\n",
    "        matrix[i][0] = 1\n",
    "    else:\n",
    "        matrix[i][0] = 0\n",
    "    if curr_node in g_asd:\n",
    "        matrix[i][1] = 1\n",
    "    else:\n",
    "        matrix[i][1] = 0\n",
    "    if curr_node in g_bp:\n",
    "        matrix[i][2] = 1\n",
    "    else:\n",
    "        matrix[i][2] = 0\n",
    "    if curr_node in g_dem:\n",
    "        matrix[i][3] = 1\n",
    "    else:\n",
    "        matrix[i][3] = 0\n",
    "    if curr_node in g_mdd:\n",
    "        matrix[i][4] = 1\n",
    "    else:\n",
    "        matrix[i][4] = 0\n",
    "    if curr_node in g_scz:\n",
    "        matrix[i][5] = 1\n",
    "    else:\n",
    "        matrix[i][5] = 0\n",
    "print matrix\n",
    "disorders = [\"Alzheimer's Disease\", \"Autism\", \"Bipolar Disorder\", \"Dementia\",\n",
    "              \"Depression\", \"Schizophrenia\"]\n",
    "#nodes = nodes\n",
    "fig, ax = plt.subplots()\n",
    "#im = ax.imshow(matrix)\n",
    "#matrix = [[0, 0, 0, 0, 1, 0],\n",
    "# [0, 0, 0, 0, 1, 0],\n",
    "# [0, 0, 0, 0, 1, 0]]\n",
    "\n",
    "ax.matshow(matrix, interpolation='nearest',aspect='equal',extent=[0,6,0,6])\n",
    "ax.set_xticks(np.arange(len(disorders)))\n",
    "#ax.set_yticks(np.arange(len(nodes)))\n",
    "ax.set_xticklabels(disorders)\n",
    "\n",
    "\n",
    "#ax.set_yticklabels(nodes)\n",
    "plt.setp(ax.get_xticklabels(), rotation=45)\n",
    "#fig.tight_layout()\n",
    "plt.subplots_adjust(bottom=0.1, left=0, right=0.9, top=0.9)\n",
    "plt.show()\n",
    "\n",
    "\n"
   ]
  },
  {
   "cell_type": "code",
   "execution_count": 120,
   "metadata": {},
   "outputs": [
    {
     "name": "stdout",
     "output_type": "stream",
     "text": [
      "1127\n"
     ]
    }
   ],
   "source": [
    "file = 'gwas_depression.tsv'\n",
    "g_mdd, g_p, vals = readGwasAssociationFile(file)"
   ]
  },
  {
   "cell_type": "code",
   "execution_count": null,
   "metadata": {},
   "outputs": [],
   "source": []
  }
 ],
 "metadata": {
  "kernelspec": {
   "display_name": "Python 2",
   "language": "python",
   "name": "python2"
  },
  "language_info": {
   "codemirror_mode": {
    "name": "ipython",
    "version": 2
   },
   "file_extension": ".py",
   "mimetype": "text/x-python",
   "name": "python",
   "nbconvert_exporter": "python",
   "pygments_lexer": "ipython2",
   "version": "2.7.14"
  }
 },
 "nbformat": 4,
 "nbformat_minor": 2
}
