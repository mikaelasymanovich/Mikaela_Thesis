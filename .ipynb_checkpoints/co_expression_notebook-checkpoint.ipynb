{
 "cells": [
  {
   "cell_type": "code",
   "execution_count": 9,
   "metadata": {},
   "outputs": [],
   "source": [
    "import networkx as nx\n",
    "import matplotlib.pyplot as plt\n",
    "import numpy as np\n",
    "from decimal import Decimal\n",
    "import random\n",
    "import math\n",
    "import os\n",
    "import pandas\n",
    "from collections import Counter\n",
    "import statsmodels.sandbox.stats.multicomp as stats\n",
    "import sys"
   ]
  },
  {
   "cell_type": "code",
   "execution_count": 2,
   "metadata": {},
   "outputs": [],
   "source": [
    "N = 1000\n",
    "k = 223\n",
    "disease_cc_number = 177\n",
    "disease_largest_cc = 47\n",
    "num_gt_cc = 0\n",
    "num_gt_large_cc = 0\n",
    "print sys.float_info\n"
   ]
  },
  {
   "cell_type": "code",
   "execution_count": 3,
   "metadata": {},
   "outputs": [],
   "source": [
    "fh = open(os.path.join('./Tissue_Networks', 'heart_top.tsv'), 'rb')\n",
    "G = nx.read_edgelist(fh, delimiter='\\t')\n",
    "nodes_all = G.nodes()\n",
    "fh.close()"
   ]
  },
  {
   "cell_type": "code",
   "execution_count": 2,
   "metadata": {},
   "outputs": [],
   "source": [
    "# Read directly from GWAS downloaded file and create a list of genes\n",
    "# disease = a file name\n",
    "def readGwasFile(disease):\n",
    "\tgenes = []\n",
    "\tinsignificants = []\n",
    "\ttotal_genes = []\n",
    "\t#f = open(os.path.join('./Diseases', 'ulcerative_colitis.tsv'))\n",
    "\tf = open(os.path.join('./Diseases', disease))\n",
    "\n",
    "\tfirst_line = 0\n",
    "\tnum_genes = 0;\n",
    "\tnum_assoc = 0;\n",
    "\tfor line in f:\n",
    "\t\tif (first_line == 1):\n",
    "\t\t\tnum_assoc += 1;\n",
    "\t\t\tx = line.split('\\t')\n",
    "\t\t\tp_value = Decimal(x[27])\n",
    "\t\t\tif x[15] and x[16]:\n",
    "\t\t\t\tupstream_downstream = x[15] + ' ' + x[16]\n",
    "\t\t\tif x[15] and not x[16]:\n",
    "\t\t\t\tupstream_downstream = x[15]\n",
    "\t\t\tif x[16] and not x[15]:\n",
    "\t\t\t\tupstream_downstream = x[16]\n",
    "\t\t\telse:\n",
    "\t\t\t\tupstream_downstream = ''\n",
    "\t\t\t#downstream_gene = x[16]\n",
    "\t\t\tif x[17]:\n",
    "\t\t\t\tmiddle_gene = x[17].replace(',', '')\n",
    "\t\t\telse:\n",
    "\t\t\t\tmiddle_gene = ''\n",
    "\t\t\t\n",
    "\t\t\tif upstream_downstream and middle_gene:\n",
    "\t\t\t\t_genes = upstream_downstream + ' ' + middle_gene\n",
    "\t\t\tif upstream_downstream and not middle_gene:\n",
    "\t\t\t\t_genes = upstream_downstream\n",
    "\t\t\tif middle_gene and not upstream_downstream:\n",
    "\t\t\t\t_genes = middle_gene\n",
    "\t\t\telse:\n",
    "\t\t\t\t_genes = ''\n",
    "\n",
    "\t\t\tmapped_genes = _genes.split(' ')\n",
    "\n",
    "\t\t\tif (disease == 'gwas_schizophrenia.tsv' or disease == 'gwas_Alzheimer.tsv'):\n",
    "\t\t\t\tif (p_value < 0.0000001):\n",
    "\t\t\t\t\tfor gene in mapped_genes:\n",
    "\t\t\t\t\t\tif gene:\n",
    "\t\t\t\t\t\t\tif gene not in genes: \n",
    "\t\t\t\t\t\t\t\tgenes.append(gene)\n",
    "\t\t\t\t\t\t\t\tnum_genes += 1\n",
    "\t\t\telif (disease == 'gwas_Dementia.tsv'):\n",
    "\t\t\t\tif (p_value < 0.00000005):\n",
    "\t\t\t\t\tfor gene in mapped_genes:\n",
    "\t\t\t\t\t\tif gene: \n",
    "\t\t\t\t\t\t\tif gene not in genes: \n",
    "\t\t\t\t\t\t\t\tgenes.append(gene)\n",
    "\t\t\t\t\t\t\t\tnum_genes += 1\n",
    "\t\t\telse:\n",
    "\t\t\t\tif (p_value < 0.000005):\n",
    "\t\t\t\t\tfor gene in mapped_genes:\n",
    "\t\t\t\t\t\tif gene: \n",
    "\t\t\t\t\t\t\tif gene not in genes:\n",
    "\t\t\t\t\t\t\t\tgenes.append(gene)\n",
    "\t\t\t\t\t\t\t\tnum_genes += 1\n",
    "\n",
    "\t\tfirst_line = 1\n",
    "\n",
    "\treturn genes"
   ]
  },
  {
   "cell_type": "code",
   "execution_count": 3,
   "metadata": {},
   "outputs": [],
   "source": [
    "def printResults(subgraph, f, file):\n",
    "\tedges = nx.number_of_edges(subgraph)\n",
    "\tnodes = nx.number_of_nodes(subgraph)\n",
    "\tcomponents = sorted(nx.connected_components(subgraph), key = len, reverse=True)\n",
    "\t\n",
    "\tif (nodes != 0):\n",
    "\t\tcluster_coeff = nx.average_clustering(subgraph)\n",
    "\t\tcc_number = nx.number_connected_components(subgraph)\n",
    "\t\tGcc=sorted(nx.connected_component_subgraphs(subgraph), key = len, reverse=True)\n",
    "\t\tG0=nx.number_of_nodes(Gcc[0])\n",
    "\t\tG1=nx.number_of_nodes(Gcc[1])\n",
    "\n",
    "\t\tgraph_results = []\n",
    "\t\tfor comp in Gcc:\n",
    "\t\t\tgraph_results.append(nx.number_of_nodes(comp))\n",
    "\n",
    "\t\t#plt.hist(graph_results, G0)\n",
    "\t\t#name = \"Number of Connected Components Distribution in \" + file\n",
    "\t\t#plt.xlabel(name)\n",
    "\t\t#plt.show()\n",
    "\t\t#print graph_results\n",
    "\n",
    "    \tcc_number_excuding_ones = 0\n",
    "    \tfor component in Gcc:\n",
    "    \t\tif (nx.number_of_nodes(component) != 1):\n",
    "    \t\t\tcc_number_excuding_ones += 1;\n",
    "\n",
    "    \tratio = Decimal(cc_number)/nodes\n",
    "\n",
    "\tf.write(file + \"\\t\" + str(nodes) + \"\\t\" + str(edges) + \"\\t\" + str(cc_number) + \"\\t\" + str(G0) + \"\\t\" + str(G1) + \"\\t\" + str(cluster_coeff) + \"\\t\" + str(cc_number_excuding_ones) + \"\\n\")\n",
    "\n",
    "def get_components(G, subgraph):\n",
    "    Gcc=sorted(nx.connected_component_subgraphs(subgraph), key = len, reverse=True)\n",
    "    G0 = Gcc[0]\n",
    "    G1 = Gcc[1]\n",
    "\n",
    "    #show_components(G, G0, G1)\n",
    "    return G0, G1"
   ]
  },
  {
   "cell_type": "code",
   "execution_count": null,
   "metadata": {},
   "outputs": [],
   "source": [
    "f = open('_frontal.txt', 'w')\n",
    "f.write(\"Disease\\tNodes\\tEdges\\tConnected_Components\\tLargest_CC\\tSecond_Largest_CC\\tClustering_coeff\\tCC's no single nodes\" + \"\\n\")\n",
    "print \"BEGIN\"\n",
    "for file in os.listdir('./Diseases'):\n",
    "    print(file)\n",
    "    if (file != '.DS_Store') and (file != 'vogelstein.txt'):\n",
    "        genes = readGwasFile(file)\n",
    "            H = G.subgraph(genes)\n",
    "            printResults(H, f, file)"
   ]
  },
  {
   "cell_type": "markdown",
   "metadata": {},
   "source": [
    "Permutation Test to check size of largest component"
   ]
  },
  {
   "cell_type": "code",
   "execution_count": 8,
   "metadata": {},
   "outputs": [
    {
     "name": "stdout",
     "output_type": "stream",
     "text": [
      "Largest Connected Component\n",
      "('P(X>x) = ', 0.364, '\\n')\n"
     ]
    }
   ],
   "source": [
    "nodes_all = G.nodes()\n",
    "k = 107\n",
    "disease_largest_cc = 1\n",
    "num_gt_large_cc= 0\n",
    "\n",
    "for i in range(0,N):\n",
    "    genes = random.sample(nodes_all, k)\n",
    "\n",
    "    H = G.subgraph(genes)\n",
    "    nodes = nx.number_of_nodes(H)\n",
    "\n",
    "    if (nodes != 0):\n",
    "        cc_number = nx.number_connected_components(H)\n",
    "\n",
    "        Gcc = sorted(nx.connected_component_subgraphs(H), key = len, reverse=True)\n",
    "        G0 = nx.number_of_nodes(Gcc[0])\n",
    "\n",
    "        #if (cc_number > disease_cc_number):\n",
    "        #    num_gt_cc += 1\n",
    "        if (G0 > disease_largest_cc):\n",
    "            num_gt_large_cc += 1\n",
    "\n",
    "#print(\"Number of Connected Components\")\n",
    "#print(\"P(X>x) = \", float(num_gt_cc)/float(N), \"\\n\")\n",
    "\n",
    "print(\"Largest Connected Component\")\n",
    "print(\"P(X>x) = \", float(num_gt_large_cc)/float(N), \"\\n\")\n"
   ]
  },
  {
   "cell_type": "code",
   "execution_count": 15,
   "metadata": {},
   "outputs": [
    {
     "name": "stdout",
     "output_type": "stream",
     "text": [
      "('Largest Connected Component for ', '102', ' nodes')\n",
      "('P(X>x) = ', 0.035)\n",
      "('Largest Connected Component for ', '134', ' nodes')\n",
      "('P(X>x) = ', 0.298)\n",
      "('Largest Connected Component for ', '215', ' nodes')\n",
      "('P(X>x) = ', 0.01)\n",
      "('Largest Connected Component for ', '133', ' nodes')\n",
      "('P(X>x) = ', 0.025)\n",
      "('Largest Connected Component for ', '160', ' nodes')\n",
      "('P(X>x) = ', 0.001)\n",
      "('Largest Connected Component for ', '240', ' nodes')\n",
      "('P(X>x) = ', 0.031)\n",
      "('Largest Connected Component for ', '254', ' nodes')\n",
      "('P(X>x) = ', 0.0)\n",
      "('Largest Connected Component for ', '135', ' nodes')\n",
      "('P(X>x) = ', 0.0)\n",
      "('Largest Connected Component for ', '99', ' nodes')\n",
      "('P(X>x) = ', 0.52)\n",
      "('Largest Connected Component for ', '198', ' nodes')\n",
      "('P(X>x) = ', 0.021)\n",
      "('Largest Connected Component for ', '78', ' nodes')\n",
      "('P(X>x) = ', 0.008)\n",
      "('Largest Connected Component for ', '118', ' nodes')\n",
      "('P(X>x) = ', 0.19)\n"
     ]
    }
   ],
   "source": [
    "# BRAIN\n",
    "nodes = [96,125,206,125,150,227,242,130,99,186,75,107]\n",
    "largest = [74,104,153,105,115,197,198,107,72,156,58,88]\n",
    "l = len(nodes)\n",
    "\n",
    "for x in range(0,l):\n",
    "    k = nodes[x] # number of nodes to randomly select\n",
    "    pr = largest[x] # largest component size to beat\n",
    "    \n",
    "    num_gt = 0\n",
    "    for i in range(0,N):\n",
    "        genes = random.sample(nodes_all, k)\n",
    "\n",
    "        H = G.subgraph(genes)\n",
    "        n = nx.number_of_nodes(H)\n",
    "\n",
    "        if (n != 0):\n",
    "            Gcc = sorted(nx.connected_component_subgraphs(H), key = len, reverse=True)\n",
    "            G0 = nx.number_of_nodes(Gcc[0])\n",
    "\n",
    "            if (G0 > pr):\n",
    "                num_gt += 1\n",
    "\n",
    "\n",
    "    print(\"Largest Connected Component for \", str(nodes[x]), \" nodes\")\n",
    "    print(\"P(X>x) = \", float(num_gt)/float(N))\n",
    "\n",
    "\n"
   ]
  },
  {
   "cell_type": "markdown",
   "metadata": {},
   "source": [
    "# FDR Correction"
   ]
  },
  {
   "cell_type": "markdown",
   "metadata": {},
   "source": [
    "Corrected P-Values!"
   ]
  },
  {
   "cell_type": "code",
   "execution_count": 44,
   "metadata": {},
   "outputs": [
    {
     "name": "stdout",
     "output_type": "stream",
     "text": [
      "[ True False False  True False  True  True  True False  True  True False\n",
      " False False False False  True  True  True False False  True False False\n",
      " False  True False  True False  True False  True False  True False  True\n",
      " False False  True False  True False  True  True False False  True False\n",
      " False False False False False  True  True False False False False False\n",
      " False False False False False False False]\n",
      "[0.03190476 0.0536     0.092125   0.0209375  0.06051613 0.\n",
      " 0.00957143 0.00558333 0.8        0.00558333 0.03204348 0.12309302\n",
      " 0.60087302 0.06876316 0.17359091 0.32488679 0.         0.041875\n",
      " 0.         0.09478049 0.8        0.00558333 0.3502807  0.33624074\n",
      " 0.06876316 0.00957143 0.5695     0.00558333 0.19954348 0.\n",
      " 0.05583333 0.03173684 0.3082     0.01786667 0.05583333 0.02758824\n",
      " 0.067      0.3502807  0.03190476 0.05583333 0.00558333 0.06293939\n",
      " 0.         0.         0.5695     0.05411538 0.02977778 0.26520833\n",
      " 0.067      0.28304082 0.33865455 0.63754687 0.54054237 0.03204348\n",
      " 0.         0.19954348 0.42625862 0.06071875 0.5695     0.77823077\n",
      " 0.32082692 0.0704359  0.06876316 0.1005     0.05583333 0.31003922\n",
      " 0.24376596]\n",
      "[False False False False False  True  True  True False  True False False\n",
      " False False False False  True False  True False False  True False False\n",
      " False  True False  True False  True False False False False False False\n",
      " False False False False  True False  True  True False False False False\n",
      " False False False False False False  True False False False False False\n",
      " False False False False False False False]\n",
      "[0.03190476 0.0536     0.092125   0.0209375  0.06051613 0.\n",
      " 0.00957143 0.00558333 0.8        0.00558333 0.03204348 0.12309302\n",
      " 0.60087302 0.06876316 0.17359091 0.32488679 0.         0.041875\n",
      " 0.         0.09478049 0.8        0.00558333 0.3502807  0.33624074\n",
      " 0.06876316 0.00957143 0.5695     0.00558333 0.19954348 0.\n",
      " 0.05583333 0.03173684 0.3082     0.01786667 0.05583333 0.02758824\n",
      " 0.067      0.3502807  0.03190476 0.05583333 0.00558333 0.06293939\n",
      " 0.         0.         0.5695     0.05411538 0.02977778 0.26520833\n",
      " 0.067      0.28304082 0.33865455 0.63754687 0.54054237 0.03204348\n",
      " 0.         0.19954348 0.42625862 0.06071875 0.5695     0.77823077\n",
      " 0.32082692 0.0704359  0.06876316 0.1005     0.05583333 0.31003922\n",
      " 0.24376596]\n",
      "[False False False False]\n",
      "[0.588 0.655 0.46  0.46 ]\n"
     ]
    }
   ],
   "source": [
    "#Dementia_p_vals = [0.038,0.002,0.51,0.001,0.135,0,0.023,0.009,0.23,0.004,0.025,0.007]\n",
    "frontal = [0.01,0.02,0.055,0.005,0.028,0,0.002,0.001,0.8,0.001,0.011, 0.079]\n",
    "thalamus = [0.565,0.037,0.114,0.257,0,0.015,0,0.058,0.794,0.001,0.297,0.271]\n",
    "parietal = [0.038,0.002,0.51,0.001,0.135,0,0.023,0.009,0.23,0.004,0.025,0.007]\n",
    "hypothalamus = [0.035,0.298,0.01,0.025,0.001,0.031,0,0,0.52,0.021,0.008,0.19]\n",
    "hippocampus = [0.034,0.207,0.278,0.609,0.476,0.011,0,0.137,0.369,0.029,0.527,0.755]\n",
    "occipital = [0.249, 0.041, 0.039, 0.063, 0.025]\n",
    "temporal = [0.236, 0.171]\n",
    "amygdala = [0.656,0.457,0.759,0.589,0.175,0.451,0.341,0.744,0.037,0.047,0.444,0.459]\n",
    "p_vals = frontal + thalamus + parietal + hypothalamus + hippocampus + occipital + temporal\n",
    "tf, vals = stats.fdrcorrection0(p_vals, alpha=0.05)\n",
    "print tf\n",
    "print vals\n",
    "\n",
    "tf, vals = stats.fdrcorrection0(p_vals, alpha=0.01)\n",
    "print tf\n",
    "print vals\n",
    "\n",
    "brain = [0.441,0.655,0.23,0.19]\n",
    "tf, vals = stats.fdrcorrection0(brain, alpha=0.05)\n",
    "print tf\n",
    "print vals\n"
   ]
  },
  {
   "cell_type": "markdown",
   "metadata": {},
   "source": [
    "P-Value Distribution"
   ]
  },
  {
   "cell_type": "code",
   "execution_count": 38,
   "metadata": {},
   "outputs": [
    {
     "name": "stdout",
     "output_type": "stream",
     "text": [
      "[1.110223e-16, 1.110223e-16, 1.110223e-16, 1.110223e-16, 1.110223e-16, 1.110223e-16, 1.110223e-16, 1.110223e-16, 1.110223e-16, 1.110223e-16, 1.110223e-16, 1.110223e-16, 1.110223e-16, 1.110223e-16, 1.110223e-16, 2.220446e-16, 4.440892e-16, 4.440892e-16, 2.997602e-15, 3.552714e-15, 3.552714e-15, 3.552714e-15, 3.552714e-15, 3.552714e-15, 3.552714e-15, 3.663736e-15, 5.329071e-15, 1.44329e-14, 1.014744e-13, 1.701972e-13, 2.302603e-13, 5.252465e-13, 1.177392e-12, 2.770228e-12, 9.695578e-12, 1.69379e-11, 6.794665e-11, 9.737955e-11, 2.141405e-09, 2.627671e-09, 4.267338e-09, 4.631095e-09, 1.231455e-08, 1.248352e-08, 1.98521e-08, 2.270501e-08, 3.433443e-08, 2.62115e-07, 1.18189e-06, 1.217357e-06, 1.722246e-06, 2.262305e-06, 8.476493e-06, 1.095171e-05, 2.852179e-05, 0.0001910071, 0.0002705214, 0.0003291726, 0.0003454753, 0.0008718408, 0.001143337, 0.00135202, 0.001803627, 0.003023124, 0.004451644, 0.006920967, 0.007162726, 0.008009195, 0.009581818, 0.01389071, 0.01503468, 0.02650764, 0.02684261, 0.03048182, 0.03050012, 0.03391739, 0.04257273, 0.05, 0.05345455, 0.05349342, 0.05662179, 0.0576, 0.05955362, 0.06511142, 0.07249345, 0.08478477, 0.08586343, 0.0918, 0.09195665, 1.0, 1.0, 1.0, 1.0, 1.0, 1.0, 1.0, 1.0, 1.0, 1.0, 1.0, 1.0, 1.0, 1.0, 1.0, 1.0, 1.0, 1.0, 1.0, 1.0, 1.0, 1.0, 1.0, 1.0, 1.0, 1.0, 1.0, 1.0, 1.0, 1.0, 1.0, 1.0, 1.0, 1.0, 1.0, 1.0, 1.0, 1.0, 1.0, 1.0, 1.0, 1.0, 1.0, 1.0, 1.0, 1.0, 1.0, 1.0]\n"
     ]
    },
    {
     "data": {
      "image/png": "[encoded data removed]",
      "text/plain": [
       "<matplotlib.figure.Figure at 0x1a1c307410>"
      ]
     },
     "metadata": {},
     "output_type": "display_data"
    }
   ],
   "source": [
    "pvals = open('pvals', 'rb')\n",
    "fx = open(os.path.join('./Diseases', 'vogelstein.txt'))\n",
    "genes = fx.read().splitlines()\n",
    "vals = []\n",
    "first_line = 0\n",
    "for line in pvals:\n",
    "    if (first_line == 1):\n",
    "        x = line.split('\\t')\n",
    "        p = float(x[2])\n",
    "        gene = x[0]\n",
    "        if gene in genes:\n",
    "            vals.append(p)\n",
    "    first_line = 1\n",
    "print vals\n",
    "bins = [0.0,0.000005,0.00005, 0.0005, 0.005,0.05, 0.1,1]\n",
    "plt.hist(vals, bins=bins)\n",
    "plt.xscale('log')\n",
    "plt.xlabel('P-value')\n",
    "plt.ylabel('Number of Genes')\n",
    "plt.title('Distribution of P-value for Vogelstein Pan-Cancer Sample')\n",
    "plt.show()"
   ]
  }
 ],
 "metadata": {
  "kernelspec": {
   "display_name": "Python 2",
   "language": "python",
   "name": "python2"
  },
  "language_info": {
   "codemirror_mode": {
    "name": "ipython",
    "version": 2
   },
   "file_extension": ".py",
   "mimetype": "text/x-python",
   "name": "python",
   "nbconvert_exporter": "python",
   "pygments_lexer": "ipython2",
   "version": "2.7.14"
  }
 },
 "nbformat": 4,
 "nbformat_minor": 2
}
